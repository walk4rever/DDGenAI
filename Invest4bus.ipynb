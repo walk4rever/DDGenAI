{
 "cells": [
  {
   "cell_type": "code",
   "execution_count": 18,
   "id": "19937f4d",
   "metadata": {},
   "outputs": [],
   "source": [
    "# 一个测试例子，用于计算初始投资回收的年限\n",
    "def calculate_years(E0, G, P):\n",
    "    \"\"\"\n",
    "    计算从初始值E0开始,以年复利增长率G,累计到达预设值P所需的年数N。\n",
    "    \n",
    "    参数:\n",
    "    E0 (float): 初始值\n",
    "    G (float): 年复利增长率,取值范围(0, 1)\n",
    "    P (float): 预设累计值\n",
    "    \n",
    "    返回:\n",
    "    N (int): 达到预设累计值P所需的年数\n",
    "    \"\"\"\n",
    "    \n",
    "    PE = P / E0\n",
    "    #print(f\"PE = {PE}\")  \n",
    "    total = 0  # 初始累计值\n",
    "    N = 0  # 初始年数\n",
    "    \n",
    "    while total < P:\n",
    "        N += 1\n",
    "        E = E0 * (1 + G) ** N  # 计算当年值E,修正公式\n",
    "        total += E  # 累加到总值\n",
    "        #print(f\"E{N} = {E}, T = {total}\")\n",
    "        \n",
    "    return N"
   ]
  },
  {
   "cell_type": "code",
   "execution_count": 12,
   "id": "3105b545",
   "metadata": {},
   "outputs": [
    {
     "name": "stdout",
     "output_type": "stream",
     "text": [
      "达到预设累计值40所需的年数为: 14年\n"
     ]
    }
   ],
   "source": [
    "# 使用示例\n",
    "initial_value = 1  # 初始值E0\n",
    "growth_rate = 0.15  # 年复利增长率G\n",
    "target_value = 40  # 预设累计值P\n",
    "\n",
    "years = calculate_years(initial_value, growth_rate, target_value)\n",
    "print(f\"达到预设累计值{target_value}所需的年数为: {years}年\")"
   ]
  },
  {
   "cell_type": "code",
   "execution_count": 22,
   "id": "30ee0dee",
   "metadata": {},
   "outputs": [
    {
     "name": "stdout",
     "output_type": "stream",
     "text": [
      "年复利增长率(G) | P/E0 = 10 | P/E0 = 20 | P/E0 = 30 | P/E0 = 40 | P/E0 = 50 | P/E0 = 60\n",
      "----------------+------------+------------+------------+------------+------------+------------\n",
      "0.05            |         8   |        14   |        19   |        22   |        25   |        28   |\n",
      "0.10            |         7   |        11   |        14   |        17   |        18   |        20   |\n",
      "0.15            |         6   |        10   |        12   |        14   |        15   |        16   |\n",
      "0.20            |         6   |         9   |        10   |        12   |        13   |        14   |\n",
      "0.25            |         5   |         8   |         9   |        10   |        11   |        12   |\n",
      "0.30            |         5   |         7   |         8   |         9   |        10   |        11   |\n"
     ]
    }
   ],
   "source": [
    "growth_rates = [0.05, 0.10, 0.15, 0.20, 0.25, 0.30]\n",
    "ratios = [10, 20, 30, 40, 50, 60]\n",
    "\n",
    "print(\"年复利增长率(G) | P/E0 = 10 | P/E0 = 20 | P/E0 = 30 | P/E0 = 40 | P/E0 = 50 | P/E0 = 60\")\n",
    "print(\"----------------+------------+------------+------------+------------+------------+------------\")\n",
    "\n",
    "for G in growth_rates:\n",
    "    row = f\"{G:.2f}            |\"\n",
    "    for ratio in ratios:\n",
    "        E0 = 1  # 设置初始值为1\n",
    "        P = ratio  # P/E0的值就是ratio\n",
    "        N = calculate_years(E0, G, P)\n",
    "        row += f\"     {N:>5}   |\"\n",
    "    print(row)\n"
   ]
  },
  {
   "cell_type": "code",
   "execution_count": null,
   "id": "526e7886",
   "metadata": {},
   "outputs": [],
   "source": []
  }
 ],
 "metadata": {
  "kernelspec": {
   "display_name": "Python 3 (ipykernel)",
   "language": "python",
   "name": "python3"
  },
  "language_info": {
   "codemirror_mode": {
    "name": "ipython",
    "version": 3
   },
   "file_extension": ".py",
   "mimetype": "text/x-python",
   "name": "python",
   "nbconvert_exporter": "python",
   "pygments_lexer": "ipython3",
   "version": "3.9.18"
  }
 },
 "nbformat": 4,
 "nbformat_minor": 5
}
