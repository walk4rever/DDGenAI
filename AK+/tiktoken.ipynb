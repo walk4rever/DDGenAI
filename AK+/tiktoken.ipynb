{
 "cells": [
  {
   "cell_type": "code",
   "execution_count": 1,
   "id": "0f8164c3-a4ca-47c7-9609-065c0df63dba",
   "metadata": {},
   "outputs": [],
   "source": [
    "import tiktoken"
   ]
  },
  {
   "cell_type": "code",
   "execution_count": 2,
   "id": "ecad25b3-1726-45d6-a92d-735b5c74db49",
   "metadata": {},
   "outputs": [],
   "source": [
    "encoding = tiktoken.get_encoding(\"cl100k_base\")"
   ]
  },
  {
   "cell_type": "code",
   "execution_count": 3,
   "id": "cb6551d4-3f81-4c64-b042-b47656620b6c",
   "metadata": {},
   "outputs": [],
   "source": [
    "encoding = tiktoken.encoding_for_model(\"gpt-3.5-turbo\")"
   ]
  },
  {
   "cell_type": "code",
   "execution_count": 5,
   "id": "4aab2547-4a65-433d-9043-0cdb41e9faba",
   "metadata": {},
   "outputs": [
    {
     "data": {
      "text/plain": [
       "[6869, 87272, 295, 1713, 304, 29167, 374, 779, 2294, 0]"
      ]
     },
     "execution_count": 5,
     "metadata": {},
     "output_type": "execute_result"
    }
   ],
   "source": [
    "encoding.encode('Run tiketoken in Cursor is so great!')\n"
   ]
  },
  {
   "cell_type": "code",
   "execution_count": 7,
   "id": "17110b72-599a-423e-9661-88c4dac00a7f",
   "metadata": {},
   "outputs": [
    {
     "data": {
      "text/plain": [
       "'Run tiketoken in Cursor is so great!'"
      ]
     },
     "execution_count": 7,
     "metadata": {},
     "output_type": "execute_result"
    }
   ],
   "source": [
    "encoding.decode([6869, 87272, 295, 1713, 304, 29167, 374, 779, 2294, 0])"
   ]
  },
  {
   "cell_type": "code",
   "execution_count": 8,
   "id": "69aa9437-4ef5-40b9-ad5c-087196af83e1",
   "metadata": {},
   "outputs": [],
   "source": [
    "def num_tokens_from_string(string: str, encoding_name: str) -> int:\n",
    "    \"\"\"Return the number of tokens in a text string.\"\"\"\n",
    "\n",
    "    encoding = tiktoken.get_encoding(encoding_name)\n",
    "    num_tokens = len(encoding.encode(string))\n",
    "    return num_tokens"
   ]
  },
  {
   "cell_type": "code",
   "execution_count": 10,
   "id": "ae2fd180-f81b-43b0-a63a-48e68bad41cb",
   "metadata": {},
   "outputs": [
    {
     "data": {
      "text/plain": [
       "6"
      ]
     },
     "execution_count": 10,
     "metadata": {},
     "output_type": "execute_result"
    }
   ],
   "source": [
    "num_tokens_from_string(\"What are u doing now?\", \"cl100k_base\")"
   ]
  },
  {
   "cell_type": "code",
   "execution_count": 11,
   "id": "4e276110-ea30-4ea5-80a0-6e3079532368",
   "metadata": {},
   "outputs": [
    {
     "data": {
      "text/plain": [
       "[b't', b'ik', b'token', b' is', b' great', b'!']"
      ]
     },
     "execution_count": 11,
     "metadata": {},
     "output_type": "execute_result"
    }
   ],
   "source": [
    "[encoding.decode_single_token_bytes(token) for token in [83, 1609, 5963, 374, 2294, 0]]"
   ]
  },
  {
   "cell_type": "code",
   "execution_count": 15,
   "id": "2471f882-88c7-4fc3-a3f7-2321e1babdfe",
   "metadata": {},
   "outputs": [],
   "source": [
    "def compare_encodings(example_string: str) -> None:\n",
    "    \"\"\"Prints a comparison of three string encodings.\"\"\"\n",
    "    print(f'\\nExample string: \"{example_string}\"')\n",
    "\n",
    "    # for each encoding, print the # of tokens, the token_integrers, and the token bytes\n",
    "    for encoding_name in [\"r50k_base\", \"p50k_base\", \"cl100k_base\"]:\n",
    "        encoding = tiktoken.get_encoding(encoding_name)\n",
    "        token_integers = encoding.encode(example_string)\n",
    "        num_tokens = len(token_integers)\n",
    "        token_bytes = [encoding.decode_single_token_bytes(token) for token in token_integers]\n",
    "        print()\n",
    "        print(f\"{encoding_name}: {num_tokens} tokens\")\n",
    "        print(f\"token integers: {token_integers}\")\n",
    "        print(f\"token bytes: {token_bytes}\")"
   ]
  },
  {
   "cell_type": "code",
   "execution_count": 16,
   "id": "ded2156b-658f-4005-a724-3219013e149a",
   "metadata": {},
   "outputs": [
    {
     "name": "stdout",
     "output_type": "stream",
     "text": [
      "\n",
      "Example string: \"Waht the day is today? Rafael.\"\n",
      "\n",
      "r50k_base: 10 tokens\n",
      "token integers: [54, 993, 83, 262, 1110, 318, 1909, 30, 31918, 13]\n",
      "token bytes: [b'W', b'ah', b't', b' the', b' day', b' is', b' today', b'?', b' Rafael', b'.']\n",
      "\n",
      "p50k_base: 10 tokens\n",
      "token integers: [54, 993, 83, 262, 1110, 318, 1909, 30, 31918, 13]\n",
      "token bytes: [b'W', b'ah', b't', b' the', b' day', b' is', b' today', b'?', b' Rafael', b'.']\n",
      "\n",
      "cl100k_base: 9 tokens\n",
      "token integers: [99327, 427, 279, 1938, 374, 3432, 30, 55500, 13]\n",
      "token bytes: [b'Wa', b'ht', b' the', b' day', b' is', b' today', b'?', b' Rafael', b'.']\n"
     ]
    }
   ],
   "source": [
    "compare_encodings(\"Waht the day is today? Rafael.\")"
   ]
  },
  {
   "cell_type": "code",
   "execution_count": 23,
   "id": "3101b80f-66e3-489b-a112-67876d18bffa",
   "metadata": {},
   "outputs": [
    {
     "name": "stdout",
     "output_type": "stream",
     "text": [
      "\n",
      "Example string: \"2 + 2 = 4, 那么你算对了吗?\"\n",
      "\n",
      "r50k_base: 23 tokens\n",
      "token integers: [17, 1343, 362, 796, 604, 11, 16268, 224, 96, 20046, 230, 19526, 254, 163, 106, 245, 43380, 117, 12859, 228, 28938, 245, 30]\n",
      "token bytes: [b'2', b' +', b' 2', b' =', b' 4', b',', b' \\xe9', b'\\x82', b'\\xa3', b'\\xe4\\xb9', b'\\x88', b'\\xe4\\xbd', b'\\xa0', b'\\xe7', b'\\xae', b'\\x97', b'\\xe5\\xaf', b'\\xb9', b'\\xe4\\xba', b'\\x86', b'\\xe5\\x90', b'\\x97', b'?']\n",
      "\n",
      "p50k_base: 23 tokens\n",
      "token integers: [17, 1343, 362, 796, 604, 11, 16268, 224, 96, 20046, 230, 19526, 254, 163, 106, 245, 43380, 117, 12859, 228, 28938, 245, 30]\n",
      "token bytes: [b'2', b' +', b' 2', b' =', b' 4', b',', b' \\xe9', b'\\x82', b'\\xa3', b'\\xe4\\xb9', b'\\x88', b'\\xe4\\xbd', b'\\xa0', b'\\xe7', b'\\xae', b'\\x97', b'\\xe5\\xaf', b'\\xb9', b'\\xe4\\xba', b'\\x86', b'\\xe5\\x90', b'\\x97', b'?']\n",
      "\n",
      "cl100k_base: 19 tokens\n",
      "token integers: [17, 489, 220, 17, 284, 220, 19, 11, 18630, 224, 96, 82696, 57668, 70203, 33764, 35287, 7305, 245, 30]\n",
      "token bytes: [b'2', b' +', b' ', b'2', b' =', b' ', b'4', b',', b' \\xe9', b'\\x82', b'\\xa3', b'\\xe4\\xb9\\x88', b'\\xe4\\xbd\\xa0', b'\\xe7\\xae\\x97', b'\\xe5\\xaf\\xb9', b'\\xe4\\xba\\x86', b'\\xe5\\x90', b'\\x97', b'?']\n"
     ]
    }
   ],
   "source": [
    "compare_encodings(\"2 + 2 = 4, 那么你算对了吗?\")"
   ]
  },
  {
   "cell_type": "code",
   "execution_count": 24,
   "id": "2e900226-00a0-4447-98ee-903717a7be8b",
   "metadata": {},
   "outputs": [],
   "source": [
    "# Counting tokens for chat completions API calls"
   ]
  },
  {
   "cell_type": "code",
   "execution_count": null,
   "id": "40ce4cdb-79d3-47e1-be67-df96a04bcfed",
   "metadata": {},
   "outputs": [],
   "source": []
  }
 ],
 "metadata": {
  "kernelspec": {
   "display_name": "Python 3 (ipykernel)",
   "language": "python",
   "name": "python3"
  },
  "language_info": {
   "codemirror_mode": {
    "name": "ipython",
    "version": 3
   },
   "file_extension": ".py",
   "mimetype": "text/x-python",
   "name": "python",
   "nbconvert_exporter": "python",
   "pygments_lexer": "ipython3",
   "version": "3.9.18"
  }
 },
 "nbformat": 4,
 "nbformat_minor": 5
}
