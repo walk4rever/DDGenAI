{
 "cells": [
  {
   "cell_type": "code",
   "execution_count": 2,
   "id": "bb5af11c-6b6a-4fd7-96bc-0a500344b586",
   "metadata": {},
   "outputs": [],
   "source": [
    "import requests\n",
    "from starlette.requests import Request\n",
    "from typing import Dict\n",
    "\n",
    "from transformers import pipeline\n",
    "\n",
    "from ray import serve"
   ]
  },
  {
   "cell_type": "code",
   "execution_count": 3,
   "id": "ef5f9b92-6c51-47a1-8c10-8d1a975a9e10",
   "metadata": {},
   "outputs": [],
   "source": [
    "# Wrap the pretrained sentiment analysis model in a Serve deployment.\n",
    "\n",
    "@serve.deployment\n",
    "\n",
    "class SentimentAnalysisDeployment:\n",
    "\n",
    "    def __init__(self):\n",
    "        self._model = pipeline(\"sentiment-analysis\")\n",
    "\n",
    "    def __call__(self, request: Request) -> Dict:\n",
    "        return self._model(request.query_params[\"text\"])[0]\n",
    "        "
   ]
  },
  {
   "cell_type": "code",
   "execution_count": 4,
   "id": "67ba66bf-d986-42ae-a7ae-0a996279d587",
   "metadata": {},
   "outputs": [
    {
     "name": "stderr",
     "output_type": "stream",
     "text": [
      "2024-05-24 15:57:43,596\tINFO worker.py:1740 -- Started a local Ray instance. View the dashboard at \u001b[1m\u001b[32m127.0.0.1:8265 \u001b[39m\u001b[22m\n",
      "\u001b[36m(ProxyActor pid=61342)\u001b[0m INFO 2024-05-24 15:57:46,974 proxy 127.0.0.1 proxy.py:1161 - Proxy starting on node 412c6eee99f29d8d7e77b6525f0b7137684fcf09578a8995877b2709 (HTTP port: 8000).\n",
      "2024-05-24 15:57:47,009\tINFO handle.py:126 -- Created DeploymentHandle 'pkxnsi5q' for Deployment(name='SentimentAnalysisDeployment', app='default').\n",
      "2024-05-24 15:57:47,010\tINFO handle.py:126 -- Created DeploymentHandle 'ww0fw083' for Deployment(name='SentimentAnalysisDeployment', app='default').\n",
      "\u001b[36m(ServeController pid=61341)\u001b[0m INFO 2024-05-24 15:57:47,112 controller 61341 deployment_state.py:1598 - Deploying new version of Deployment(name='SentimentAnalysisDeployment', app='default') (initial target replicas: 1).\n",
      "\u001b[36m(ServeController pid=61341)\u001b[0m INFO 2024-05-24 15:57:47,215 controller 61341 deployment_state.py:1844 - Adding 1 replica to Deployment(name='SentimentAnalysisDeployment', app='default').\n",
      "\u001b[36m(ServeReplica:default:SentimentAnalysisDeployment pid=61343)\u001b[0m No model was supplied, defaulted to distilbert/distilbert-base-uncased-finetuned-sst-2-english and revision af0f99b (https://huggingface.co/distilbert/distilbert-base-uncased-finetuned-sst-2-english).\n",
      "\u001b[36m(ServeReplica:default:SentimentAnalysisDeployment pid=61343)\u001b[0m Using a pipeline without specifying a model name and revision in production is not recommended.\n",
      "\u001b[36m(ServeReplica:default:SentimentAnalysisDeployment pid=61343)\u001b[0m /Users/yfzhu/opt/anaconda3/envs/py39/lib/python3.9/site-packages/huggingface_hub/file_download.py:1132: FutureWarning: `resume_download` is deprecated and will be removed in version 1.0.0. Downloads always resume when possible. If you want to force a new download, use `force_download=True`.\n",
      "\u001b[36m(ServeReplica:default:SentimentAnalysisDeployment pid=61343)\u001b[0m   warnings.warn(\n",
      "2024-05-24 15:58:16,287\tINFO handle.py:126 -- Created DeploymentHandle 'gjionf7f' for Deployment(name='SentimentAnalysisDeployment', app='default').\n",
      "2024-05-24 15:58:16,289\tINFO api.py:584 -- Deployed app 'default' successfully.\n",
      "2024-05-24 15:58:16,302\tINFO handle.py:126 -- Created DeploymentHandle 'n2wml45u' for Deployment(name='SentimentAnalysisDeployment', app='default').\n",
      "2024-05-24 15:58:16,305\tINFO handle.py:126 -- Created DeploymentHandle 'kixd402k' for Deployment(name='SentimentAnalysisDeployment', app='default').\n",
      "2024-05-24 15:58:16,310\tINFO handle.py:126 -- Created DeploymentHandle 'nynkmc68' for Deployment(name='SentimentAnalysisDeployment', app='default').\n",
      "2024-05-24 15:58:16,314\tINFO handle.py:126 -- Created DeploymentHandle '1w5xcose' for Deployment(name='SentimentAnalysisDeployment', app='default').\n",
      "2024-05-24 15:58:16,319\tINFO handle.py:126 -- Created DeploymentHandle 'xg7btk3r' for Deployment(name='SentimentAnalysisDeployment', app='default').\n",
      "2024-05-24 15:58:16,323\tINFO pow_2_scheduler.py:260 -- Got updated replicas for Deployment(name='SentimentAnalysisDeployment', app='default'): {'8wcolii6'}.\n",
      "2024-05-24 15:58:16,324\tINFO handle.py:126 -- Created DeploymentHandle 'pilu1bss' for Deployment(name='SentimentAnalysisDeployment', app='default').\n",
      "2024-05-24 15:58:16,329\tINFO handle.py:126 -- Created DeploymentHandle '2xzl27ct' for Deployment(name='SentimentAnalysisDeployment', app='default').\n",
      "2024-05-24 15:58:16,331\tINFO handle.py:126 -- Created DeploymentHandle 'w79yt179' for Deployment(name='SentimentAnalysisDeployment', app='default').\n",
      "2024-05-24 15:58:16,331\tINFO handle.py:126 -- Created DeploymentHandle '8sg5ywx7' for Deployment(name='SentimentAnalysisDeployment', app='default').\n",
      "2024-05-24 15:58:16,332\tINFO handle.py:126 -- Created DeploymentHandle 'vnr1806k' for Deployment(name='SentimentAnalysisDeployment', app='default').\n",
      "2024-05-24 15:58:16,333\tINFO handle.py:126 -- Created DeploymentHandle 'ypt1rucu' for Deployment(name='SentimentAnalysisDeployment', app='default').\n"
     ]
    },
    {
     "data": {
      "text/plain": [
       "DeploymentHandle(deployment='SentimentAnalysisDeployment')"
      ]
     },
     "execution_count": 4,
     "metadata": {},
     "output_type": "execute_result"
    }
   ],
   "source": [
    "# Deploy the deployment.\n",
    "\n",
    "serve.run(SentimentAnalysisDeployment.bind(), route_prefix=\"/\")"
   ]
  },
  {
   "cell_type": "code",
   "execution_count": 6,
   "id": "931fd916-c0b3-4b17-8876-b31fb1903706",
   "metadata": {},
   "outputs": [
    {
     "name": "stdout",
     "output_type": "stream",
     "text": [
      "{'label': 'POSITIVE', 'score': 0.9998476505279541}\n"
     ]
    },
    {
     "name": "stderr",
     "output_type": "stream",
     "text": [
      "\u001b[36m(ServeReplica:default:SentimentAnalysisDeployment pid=61343)\u001b[0m INFO 2024-05-24 16:01:21,237 default_SentimentAnalysisDeployment 8wcolii6 cac1bd2a-45a5-4fc2-bd94-4a37b2f53e8a / replica.py:373 - __CALL__ OK 64.3ms\n"
     ]
    }
   ],
   "source": [
    "# 3: Query the deployment and print the result.\n",
    "\n",
    "print(\n",
    "    requests.get(\n",
    "        \"http://localhost:8000/\", params={\"text\": \"Ray Serve is great!\"}\n",
    "    ).json()\n",
    ")\n"
   ]
  }
 ],
 "metadata": {
  "kernelspec": {
   "display_name": "Python 3 (ipykernel)",
   "language": "python",
   "name": "python3"
  },
  "language_info": {
   "codemirror_mode": {
    "name": "ipython",
    "version": 3
   },
   "file_extension": ".py",
   "mimetype": "text/x-python",
   "name": "python",
   "nbconvert_exporter": "python",
   "pygments_lexer": "ipython3",
   "version": "3.9.19"
  }
 },
 "nbformat": 4,
 "nbformat_minor": 5
}
