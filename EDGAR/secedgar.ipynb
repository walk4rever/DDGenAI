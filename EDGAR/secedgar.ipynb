{
 "cells": [
  {
   "cell_type": "markdown",
   "id": "5df1fe4a-5ba4-4e36-87e9-b575ea6f06cf",
   "metadata": {},
   "source": [
    "* Getting filings of various companies at once is really a pain, but SEC-Edgar does that for you. You can download all of a company’s periodic reports, filings and forms from the EDGAR database with a single command."
   ]
  },
  {
   "cell_type": "code",
   "execution_count": 1,
   "id": "a3026fbe-d8c0-48b5-b535-8c825637e34b",
   "metadata": {},
   "outputs": [
    {
     "name": "stdout",
     "output_type": "stream",
     "text": [
      "Collecting secedgar\n",
      "  Downloading secedgar-0.5.0-py3-none-any.whl.metadata (3.9 kB)\n",
      "Requirement already satisfied: beautifulsoup4 in /Users/yfzhu/opt/anaconda3/envs/py39/lib/python3.9/site-packages (from secedgar) (4.12.3)\n",
      "Requirement already satisfied: aiohttp in /Users/yfzhu/opt/anaconda3/envs/py39/lib/python3.9/site-packages (from secedgar) (3.8.6)\n",
      "Collecting async-timeout<4.0,>=3.0 (from secedgar)\n",
      "  Downloading async_timeout-3.0.1-py3-none-any.whl.metadata (4.0 kB)\n",
      "Requirement already satisfied: urllib3 in /Users/yfzhu/opt/anaconda3/envs/py39/lib/python3.9/site-packages (from secedgar) (1.26.18)\n",
      "Requirement already satisfied: requests in /Users/yfzhu/opt/anaconda3/envs/py39/lib/python3.9/site-packages (from secedgar) (2.31.0)\n",
      "Requirement already satisfied: lxml in /Users/yfzhu/opt/anaconda3/envs/py39/lib/python3.9/site-packages (from secedgar) (5.2.1)\n",
      "Requirement already satisfied: tqdm in /Users/yfzhu/opt/anaconda3/envs/py39/lib/python3.9/site-packages (from secedgar) (4.66.2)\n",
      "Requirement already satisfied: attrs>=17.3.0 in /Users/yfzhu/opt/anaconda3/envs/py39/lib/python3.9/site-packages (from aiohttp->secedgar) (23.2.0)\n",
      "Requirement already satisfied: charset-normalizer<4.0,>=2.0 in /Users/yfzhu/opt/anaconda3/envs/py39/lib/python3.9/site-packages (from aiohttp->secedgar) (3.3.2)\n",
      "Requirement already satisfied: multidict<7.0,>=4.5 in /Users/yfzhu/opt/anaconda3/envs/py39/lib/python3.9/site-packages (from aiohttp->secedgar) (6.0.5)\n",
      "INFO: pip is looking at multiple versions of aiohttp to determine which version is compatible with other requirements. This could take a while.\n",
      "Collecting aiohttp (from secedgar)\n",
      "  Downloading aiohttp-3.9.5-cp39-cp39-macosx_10_9_x86_64.whl.metadata (7.5 kB)\n",
      "Requirement already satisfied: aiosignal>=1.1.2 in /Users/yfzhu/opt/anaconda3/envs/py39/lib/python3.9/site-packages (from aiohttp->secedgar) (1.3.1)\n",
      "Requirement already satisfied: frozenlist>=1.1.1 in /Users/yfzhu/opt/anaconda3/envs/py39/lib/python3.9/site-packages (from aiohttp->secedgar) (1.4.1)\n",
      "Requirement already satisfied: yarl<2.0,>=1.0 in /Users/yfzhu/opt/anaconda3/envs/py39/lib/python3.9/site-packages (from aiohttp->secedgar) (1.9.4)\n",
      "  Downloading aiohttp-3.9.4-cp39-cp39-macosx_10_9_x86_64.whl.metadata (7.5 kB)\n",
      "  Downloading aiohttp-3.9.3-cp39-cp39-macosx_10_9_x86_64.whl.metadata (7.4 kB)\n",
      "  Downloading aiohttp-3.9.2-cp39-cp39-macosx_10_9_x86_64.whl.metadata (7.4 kB)\n",
      "  Downloading aiohttp-3.9.1-cp39-cp39-macosx_10_9_x86_64.whl.metadata (7.4 kB)\n",
      "  Downloading aiohttp-3.9.0-cp39-cp39-macosx_10_9_x86_64.whl.metadata (7.4 kB)\n",
      "  Downloading aiohttp-3.8.5-cp39-cp39-macosx_10_9_x86_64.whl.metadata (7.7 kB)\n",
      "INFO: pip is still looking at multiple versions of aiohttp to determine which version is compatible with other requirements. This could take a while.\n",
      "  Downloading aiohttp-3.8.4-cp39-cp39-macosx_10_9_x86_64.whl.metadata (7.4 kB)\n",
      "  Downloading aiohttp-3.8.3-cp39-cp39-macosx_10_9_x86_64.whl.metadata (7.4 kB)\n",
      "Collecting charset-normalizer<3.0,>=2.0 (from aiohttp->secedgar)\n",
      "  Downloading charset_normalizer-2.1.1-py3-none-any.whl.metadata (11 kB)\n",
      "Collecting aiohttp (from secedgar)\n",
      "  Downloading aiohttp-3.8.1-cp39-cp39-macosx_10_9_x86_64.whl.metadata (7.3 kB)\n",
      "  Downloading aiohttp-3.8.0-cp39-cp39-macosx_10_9_x86_64.whl.metadata (7.3 kB)\n",
      "  Downloading aiohttp-3.7.4.post0-cp39-cp39-macosx_10_14_x86_64.whl.metadata (38 kB)\n",
      "Collecting chardet<5.0,>=2.0 (from aiohttp->secedgar)\n",
      "  Downloading chardet-4.0.0-py2.py3-none-any.whl.metadata (3.5 kB)\n",
      "Requirement already satisfied: typing-extensions>=3.6.5 in /Users/yfzhu/opt/anaconda3/envs/py39/lib/python3.9/site-packages (from aiohttp->secedgar) (4.9.0)\n",
      "Requirement already satisfied: soupsieve>1.2 in /Users/yfzhu/opt/anaconda3/envs/py39/lib/python3.9/site-packages (from beautifulsoup4->secedgar) (2.5)\n",
      "Requirement already satisfied: idna<4,>=2.5 in /Users/yfzhu/opt/anaconda3/envs/py39/lib/python3.9/site-packages (from requests->secedgar) (3.6)\n",
      "Requirement already satisfied: certifi>=2017.4.17 in /Users/yfzhu/opt/anaconda3/envs/py39/lib/python3.9/site-packages (from requests->secedgar) (2024.2.2)\n",
      "Downloading secedgar-0.5.0-py3-none-any.whl (67 kB)\n",
      "\u001b[2K   \u001b[90m━━━━━━━━━━━━━━━━━━━━━━━━━━━━━━━━━━━━━━━━\u001b[0m \u001b[32m67.1/67.1 kB\u001b[0m \u001b[31m1.0 MB/s\u001b[0m eta \u001b[36m0:00:00\u001b[0ma \u001b[36m0:00:01\u001b[0m\n",
      "\u001b[?25hDownloading async_timeout-3.0.1-py3-none-any.whl (8.2 kB)\n",
      "Downloading aiohttp-3.7.4.post0-cp39-cp39-macosx_10_14_x86_64.whl (649 kB)\n",
      "\u001b[2K   \u001b[90m━━━━━━━━━━━━━━━━━━━━━━━━━━━━━━━━━━━━━━━━\u001b[0m \u001b[32m649.6/649.6 kB\u001b[0m \u001b[31m1.9 MB/s\u001b[0m eta \u001b[36m0:00:00\u001b[0ma \u001b[36m0:00:01\u001b[0m\n",
      "\u001b[?25hDownloading chardet-4.0.0-py2.py3-none-any.whl (178 kB)\n",
      "\u001b[2K   \u001b[90m━━━━━━━━━━━━━━━━━━━━━━━━━━━━━━━━━━━━━━━━\u001b[0m \u001b[32m178.7/178.7 kB\u001b[0m \u001b[31m11.1 MB/s\u001b[0m eta \u001b[36m0:00:00\u001b[0m\n",
      "\u001b[?25hInstalling collected packages: chardet, async-timeout, aiohttp, secedgar\n",
      "  Attempting uninstall: chardet\n",
      "    Found existing installation: chardet 5.2.0\n",
      "    Uninstalling chardet-5.2.0:\n",
      "      Successfully uninstalled chardet-5.2.0\n",
      "  Attempting uninstall: async-timeout\n",
      "    Found existing installation: async-timeout 4.0.3\n",
      "    Uninstalling async-timeout-4.0.3:\n",
      "      Successfully uninstalled async-timeout-4.0.3\n",
      "  Attempting uninstall: aiohttp\n",
      "    Found existing installation: aiohttp 3.8.6\n",
      "    Uninstalling aiohttp-3.8.6:\n",
      "      Successfully uninstalled aiohttp-3.8.6\n",
      "\u001b[31mERROR: pip's dependency resolver does not currently take into account all the packages that are installed. This behaviour is the source of the following dependency conflicts.\n",
      "semantic-kernel 0.4.3.dev0 requires aiohttp<4.0,>=3.8, but you have aiohttp 3.7.4.post0 which is incompatible.\u001b[0m\u001b[31m\n",
      "\u001b[0mSuccessfully installed aiohttp-3.7.4.post0 async-timeout-3.0.1 chardet-4.0.0 secedgar-0.5.0\n"
     ]
    }
   ],
   "source": [
    "!pip install secedgar"
   ]
  },
  {
   "cell_type": "code",
   "execution_count": 2,
   "id": "dc52c98e-5a87-4b32-9786-f80212f5af05",
   "metadata": {},
   "outputs": [],
   "source": [
    "from secedgar import filings, FilingType"
   ]
  },
  {
   "cell_type": "code",
   "execution_count": 8,
   "id": "62f424b4-f602-4c26-be74-d7468d6e02da",
   "metadata": {},
   "outputs": [
    {
     "ename": "JSONDecodeError",
     "evalue": "Expecting value: line 1 column 1 (char 0)",
     "output_type": "error",
     "traceback": [
      "\u001b[0;31m---------------------------------------------------------------------------\u001b[0m",
      "\u001b[0;31mJSONDecodeError\u001b[0m                           Traceback (most recent call last)",
      "File \u001b[0;32m~/opt/anaconda3/envs/py39/lib/python3.9/site-packages/requests/models.py:971\u001b[0m, in \u001b[0;36mResponse.json\u001b[0;34m(self, **kwargs)\u001b[0m\n\u001b[1;32m    970\u001b[0m \u001b[38;5;28;01mtry\u001b[39;00m:\n\u001b[0;32m--> 971\u001b[0m     \u001b[38;5;28;01mreturn\u001b[39;00m \u001b[43mcomplexjson\u001b[49m\u001b[38;5;241;43m.\u001b[39;49m\u001b[43mloads\u001b[49m\u001b[43m(\u001b[49m\u001b[38;5;28;43mself\u001b[39;49m\u001b[38;5;241;43m.\u001b[39;49m\u001b[43mtext\u001b[49m\u001b[43m,\u001b[49m\u001b[43m \u001b[49m\u001b[38;5;241;43m*\u001b[39;49m\u001b[38;5;241;43m*\u001b[39;49m\u001b[43mkwargs\u001b[49m\u001b[43m)\u001b[49m\n\u001b[1;32m    972\u001b[0m \u001b[38;5;28;01mexcept\u001b[39;00m JSONDecodeError \u001b[38;5;28;01mas\u001b[39;00m e:\n\u001b[1;32m    973\u001b[0m     \u001b[38;5;66;03m# Catch JSON-related errors and raise as requests.JSONDecodeError\u001b[39;00m\n\u001b[1;32m    974\u001b[0m     \u001b[38;5;66;03m# This aliases json.JSONDecodeError and simplejson.JSONDecodeError\u001b[39;00m\n",
      "File \u001b[0;32m~/opt/anaconda3/envs/py39/lib/python3.9/json/__init__.py:346\u001b[0m, in \u001b[0;36mloads\u001b[0;34m(s, cls, object_hook, parse_float, parse_int, parse_constant, object_pairs_hook, **kw)\u001b[0m\n\u001b[1;32m    343\u001b[0m \u001b[38;5;28;01mif\u001b[39;00m (\u001b[38;5;28mcls\u001b[39m \u001b[38;5;129;01mis\u001b[39;00m \u001b[38;5;28;01mNone\u001b[39;00m \u001b[38;5;129;01mand\u001b[39;00m object_hook \u001b[38;5;129;01mis\u001b[39;00m \u001b[38;5;28;01mNone\u001b[39;00m \u001b[38;5;129;01mand\u001b[39;00m\n\u001b[1;32m    344\u001b[0m         parse_int \u001b[38;5;129;01mis\u001b[39;00m \u001b[38;5;28;01mNone\u001b[39;00m \u001b[38;5;129;01mand\u001b[39;00m parse_float \u001b[38;5;129;01mis\u001b[39;00m \u001b[38;5;28;01mNone\u001b[39;00m \u001b[38;5;129;01mand\u001b[39;00m\n\u001b[1;32m    345\u001b[0m         parse_constant \u001b[38;5;129;01mis\u001b[39;00m \u001b[38;5;28;01mNone\u001b[39;00m \u001b[38;5;129;01mand\u001b[39;00m object_pairs_hook \u001b[38;5;129;01mis\u001b[39;00m \u001b[38;5;28;01mNone\u001b[39;00m \u001b[38;5;129;01mand\u001b[39;00m \u001b[38;5;129;01mnot\u001b[39;00m kw):\n\u001b[0;32m--> 346\u001b[0m     \u001b[38;5;28;01mreturn\u001b[39;00m \u001b[43m_default_decoder\u001b[49m\u001b[38;5;241;43m.\u001b[39;49m\u001b[43mdecode\u001b[49m\u001b[43m(\u001b[49m\u001b[43ms\u001b[49m\u001b[43m)\u001b[49m\n\u001b[1;32m    347\u001b[0m \u001b[38;5;28;01mif\u001b[39;00m \u001b[38;5;28mcls\u001b[39m \u001b[38;5;129;01mis\u001b[39;00m \u001b[38;5;28;01mNone\u001b[39;00m:\n",
      "File \u001b[0;32m~/opt/anaconda3/envs/py39/lib/python3.9/json/decoder.py:337\u001b[0m, in \u001b[0;36mJSONDecoder.decode\u001b[0;34m(self, s, _w)\u001b[0m\n\u001b[1;32m    333\u001b[0m \u001b[38;5;250m\u001b[39m\u001b[38;5;124;03m\"\"\"Return the Python representation of ``s`` (a ``str`` instance\u001b[39;00m\n\u001b[1;32m    334\u001b[0m \u001b[38;5;124;03mcontaining a JSON document).\u001b[39;00m\n\u001b[1;32m    335\u001b[0m \n\u001b[1;32m    336\u001b[0m \u001b[38;5;124;03m\"\"\"\u001b[39;00m\n\u001b[0;32m--> 337\u001b[0m obj, end \u001b[38;5;241m=\u001b[39m \u001b[38;5;28;43mself\u001b[39;49m\u001b[38;5;241;43m.\u001b[39;49m\u001b[43mraw_decode\u001b[49m\u001b[43m(\u001b[49m\u001b[43ms\u001b[49m\u001b[43m,\u001b[49m\u001b[43m \u001b[49m\u001b[43midx\u001b[49m\u001b[38;5;241;43m=\u001b[39;49m\u001b[43m_w\u001b[49m\u001b[43m(\u001b[49m\u001b[43ms\u001b[49m\u001b[43m,\u001b[49m\u001b[43m \u001b[49m\u001b[38;5;241;43m0\u001b[39;49m\u001b[43m)\u001b[49m\u001b[38;5;241;43m.\u001b[39;49m\u001b[43mend\u001b[49m\u001b[43m(\u001b[49m\u001b[43m)\u001b[49m\u001b[43m)\u001b[49m\n\u001b[1;32m    338\u001b[0m end \u001b[38;5;241m=\u001b[39m _w(s, end)\u001b[38;5;241m.\u001b[39mend()\n",
      "File \u001b[0;32m~/opt/anaconda3/envs/py39/lib/python3.9/json/decoder.py:355\u001b[0m, in \u001b[0;36mJSONDecoder.raw_decode\u001b[0;34m(self, s, idx)\u001b[0m\n\u001b[1;32m    354\u001b[0m \u001b[38;5;28;01mexcept\u001b[39;00m \u001b[38;5;167;01mStopIteration\u001b[39;00m \u001b[38;5;28;01mas\u001b[39;00m err:\n\u001b[0;32m--> 355\u001b[0m     \u001b[38;5;28;01mraise\u001b[39;00m JSONDecodeError(\u001b[38;5;124m\"\u001b[39m\u001b[38;5;124mExpecting value\u001b[39m\u001b[38;5;124m\"\u001b[39m, s, err\u001b[38;5;241m.\u001b[39mvalue) \u001b[38;5;28;01mfrom\u001b[39;00m \u001b[38;5;28;01mNone\u001b[39;00m\n\u001b[1;32m    356\u001b[0m \u001b[38;5;28;01mreturn\u001b[39;00m obj, end\n",
      "\u001b[0;31mJSONDecodeError\u001b[0m: Expecting value: line 1 column 1 (char 0)",
      "\nDuring handling of the above exception, another exception occurred:\n",
      "\u001b[0;31mJSONDecodeError\u001b[0m                           Traceback (most recent call last)",
      "Cell \u001b[0;32mIn[8], line 7\u001b[0m\n\u001b[1;32m      1\u001b[0m \u001b[38;5;66;03m# Get filing for Apple\u001b[39;00m\n\u001b[1;32m      3\u001b[0m apple_filings \u001b[38;5;241m=\u001b[39m filings(cik_lookup\u001b[38;5;241m=\u001b[39m\u001b[38;5;124m\"\u001b[39m\u001b[38;5;124maapl\u001b[39m\u001b[38;5;124m\"\u001b[39m,\n\u001b[1;32m      4\u001b[0m                         filing_type \u001b[38;5;241m=\u001b[39m FilingType\u001b[38;5;241m.\u001b[39mFILING_10K,\n\u001b[1;32m      5\u001b[0m                         user_agent \u001b[38;5;241m=\u001b[39m \u001b[38;5;124m\"\u001b[39m\u001b[38;5;124mRafael ZHU (walkklaw@gmail.com)\u001b[39m\u001b[38;5;124m\"\u001b[39m)\n\u001b[0;32m----> 7\u001b[0m \u001b[43mapple_filings\u001b[49m\u001b[38;5;241;43m.\u001b[39;49m\u001b[43msave\u001b[49m\u001b[43m(\u001b[49m\u001b[38;5;124;43m\"\u001b[39;49m\u001b[38;5;124;43m./\u001b[39;49m\u001b[38;5;124;43m\"\u001b[39;49m\u001b[43m)\u001b[49m\n",
      "File \u001b[0;32m~/opt/anaconda3/envs/py39/lib/python3.9/site-packages/secedgar/core/company.py:322\u001b[0m, in \u001b[0;36mCompanyFilings.save\u001b[0;34m(self, directory, dir_pattern, file_pattern)\u001b[0m\n\u001b[1;32m    303\u001b[0m \u001b[38;5;28;01mdef\u001b[39;00m \u001b[38;5;21msave\u001b[39m(\u001b[38;5;28mself\u001b[39m, directory, dir_pattern\u001b[38;5;241m=\u001b[39m\u001b[38;5;28;01mNone\u001b[39;00m, file_pattern\u001b[38;5;241m=\u001b[39m\u001b[38;5;28;01mNone\u001b[39;00m):\n\u001b[1;32m    304\u001b[0m \u001b[38;5;250m    \u001b[39m\u001b[38;5;124;03m\"\"\"Save files in specified directory.\u001b[39;00m\n\u001b[1;32m    305\u001b[0m \n\u001b[1;32m    306\u001b[0m \u001b[38;5;124;03m    Each txt url looks something like:\u001b[39;00m\n\u001b[0;32m   (...)\u001b[0m\n\u001b[1;32m    320\u001b[0m \u001b[38;5;124;03m        ValueError: If no text urls are available for given filing object.\u001b[39;00m\n\u001b[1;32m    321\u001b[0m \u001b[38;5;124;03m    \"\"\"\u001b[39;00m\n\u001b[0;32m--> 322\u001b[0m     urls \u001b[38;5;241m=\u001b[39m \u001b[38;5;28;43mself\u001b[39;49m\u001b[38;5;241;43m.\u001b[39;49m\u001b[43mget_urls_safely\u001b[49m\u001b[43m(\u001b[49m\u001b[43m)\u001b[49m\n\u001b[1;32m    324\u001b[0m     \u001b[38;5;28;01mif\u001b[39;00m dir_pattern \u001b[38;5;129;01mis\u001b[39;00m \u001b[38;5;28;01mNone\u001b[39;00m:\n\u001b[1;32m    325\u001b[0m         dir_pattern \u001b[38;5;241m=\u001b[39m os\u001b[38;5;241m.\u001b[39mpath\u001b[38;5;241m.\u001b[39mjoin(\u001b[38;5;124m\"\u001b[39m\u001b[38;5;132;01m{cik}\u001b[39;00m\u001b[38;5;124m\"\u001b[39m, \u001b[38;5;124m\"\u001b[39m\u001b[38;5;132;01m{type}\u001b[39;00m\u001b[38;5;124m\"\u001b[39m)\n",
      "File \u001b[0;32m~/opt/anaconda3/envs/py39/lib/python3.9/site-packages/secedgar/core/_base.py:103\u001b[0m, in \u001b[0;36mAbstractFiling.get_urls_safely\u001b[0;34m(self, **kwargs)\u001b[0m\n\u001b[1;32m     92\u001b[0m \u001b[38;5;28;01mdef\u001b[39;00m \u001b[38;5;21mget_urls_safely\u001b[39m(\u001b[38;5;28mself\u001b[39m, \u001b[38;5;241m*\u001b[39m\u001b[38;5;241m*\u001b[39mkwargs):\n\u001b[1;32m     93\u001b[0m \u001b[38;5;250m    \u001b[39m\u001b[38;5;124;03m\"\"\"Wrapper around `get_urls` to check if there is a positive number of URLs.\u001b[39;00m\n\u001b[1;32m     94\u001b[0m \n\u001b[1;32m     95\u001b[0m \u001b[38;5;124;03m    .. note:: This method will not check if the URLs are valid. Simply if they exist.\u001b[39;00m\n\u001b[0;32m   (...)\u001b[0m\n\u001b[1;32m    101\u001b[0m \u001b[38;5;124;03m        urls (dict): Result of `get_urls` method.\u001b[39;00m\n\u001b[1;32m    102\u001b[0m \u001b[38;5;124;03m    \"\"\"\u001b[39;00m\n\u001b[0;32m--> 103\u001b[0m     urls \u001b[38;5;241m=\u001b[39m \u001b[38;5;28;43mself\u001b[39;49m\u001b[38;5;241;43m.\u001b[39;49m\u001b[43mget_urls\u001b[49m\u001b[43m(\u001b[49m\u001b[38;5;241;43m*\u001b[39;49m\u001b[38;5;241;43m*\u001b[39;49m\u001b[43mkwargs\u001b[49m\u001b[43m)\u001b[49m\n\u001b[1;32m    104\u001b[0m     \u001b[38;5;28;01mif\u001b[39;00m \u001b[38;5;28mall\u001b[39m(\u001b[38;5;28mlen\u001b[39m(urls[cik]) \u001b[38;5;241m==\u001b[39m \u001b[38;5;241m0\u001b[39m \u001b[38;5;28;01mfor\u001b[39;00m cik \u001b[38;5;129;01min\u001b[39;00m urls\u001b[38;5;241m.\u001b[39mkeys()):\n\u001b[1;32m    105\u001b[0m         \u001b[38;5;28;01mraise\u001b[39;00m NoFilingsError(\u001b[38;5;124m\"\u001b[39m\u001b[38;5;124mNo filings available.\u001b[39m\u001b[38;5;124m\"\u001b[39m)\n",
      "File \u001b[0;32m~/opt/anaconda3/envs/py39/lib/python3.9/site-packages/secedgar/core/company.py:250\u001b[0m, in \u001b[0;36mCompanyFilings.get_urls\u001b[0;34m(self, **kwargs)\u001b[0m\n\u001b[1;32m    237\u001b[0m \u001b[38;5;28;01mdef\u001b[39;00m \u001b[38;5;21mget_urls\u001b[39m(\u001b[38;5;28mself\u001b[39m, \u001b[38;5;241m*\u001b[39m\u001b[38;5;241m*\u001b[39mkwargs):\n\u001b[1;32m    238\u001b[0m \u001b[38;5;250m    \u001b[39m\u001b[38;5;124;03m\"\"\"Get urls for all CIKs given to Filing object.\u001b[39;00m\n\u001b[1;32m    239\u001b[0m \n\u001b[1;32m    240\u001b[0m \u001b[38;5;124;03m    Args:\u001b[39;00m\n\u001b[0;32m   (...)\u001b[0m\n\u001b[1;32m    246\u001b[0m \u001b[38;5;124;03m        urls (list): List of urls for txt files to download.\u001b[39;00m\n\u001b[1;32m    247\u001b[0m \u001b[38;5;124;03m    \"\"\"\u001b[39;00m\n\u001b[1;32m    248\u001b[0m     \u001b[38;5;28;01mreturn\u001b[39;00m {\n\u001b[1;32m    249\u001b[0m         key: \u001b[38;5;28mself\u001b[39m\u001b[38;5;241m.\u001b[39m_get_urls_for_cik(cik, \u001b[38;5;241m*\u001b[39m\u001b[38;5;241m*\u001b[39mkwargs)\n\u001b[0;32m--> 250\u001b[0m         \u001b[38;5;28;01mfor\u001b[39;00m key, cik \u001b[38;5;129;01min\u001b[39;00m \u001b[38;5;28;43mself\u001b[39;49m\u001b[38;5;241;43m.\u001b[39;49m\u001b[43mcik_lookup\u001b[49m\u001b[38;5;241;43m.\u001b[39;49m\u001b[43mlookup_dict\u001b[49m\u001b[38;5;241m.\u001b[39mitems()\n\u001b[1;32m    251\u001b[0m     }\n",
      "File \u001b[0;32m~/opt/anaconda3/envs/py39/lib/python3.9/site-packages/secedgar/cik_lookup.py:102\u001b[0m, in \u001b[0;36mCIKLookup.lookup_dict\u001b[0;34m(self)\u001b[0m\n\u001b[1;32m    100\u001b[0m \u001b[38;5;250m\u001b[39m\u001b[38;5;124;03m\"\"\":obj:`dict`: Dictionary that makes tickers and company names to CIKs.\"\"\"\u001b[39;00m\n\u001b[1;32m    101\u001b[0m \u001b[38;5;28;01mif\u001b[39;00m \u001b[38;5;28mself\u001b[39m\u001b[38;5;241m.\u001b[39m_lookup_dict \u001b[38;5;129;01mis\u001b[39;00m \u001b[38;5;28;01mNone\u001b[39;00m:\n\u001b[0;32m--> 102\u001b[0m     \u001b[38;5;28mself\u001b[39m\u001b[38;5;241m.\u001b[39m_lookup_dict \u001b[38;5;241m=\u001b[39m \u001b[38;5;28;43mself\u001b[39;49m\u001b[38;5;241;43m.\u001b[39;49m\u001b[43mget_ciks\u001b[49m\u001b[43m(\u001b[49m\u001b[43m)\u001b[49m\n\u001b[1;32m    103\u001b[0m \u001b[38;5;28;01mreturn\u001b[39;00m \u001b[38;5;28mself\u001b[39m\u001b[38;5;241m.\u001b[39m_lookup_dict\n",
      "File \u001b[0;32m~/opt/anaconda3/envs/py39/lib/python3.9/site-packages/secedgar/cik_lookup.py:204\u001b[0m, in \u001b[0;36mCIKLookup.get_ciks\u001b[0;34m(self)\u001b[0m\n\u001b[1;32m    201\u001b[0m ciks \u001b[38;5;241m=\u001b[39m {}\n\u001b[1;32m    202\u001b[0m to_lookup \u001b[38;5;241m=\u001b[39m \u001b[38;5;28mset\u001b[39m(\u001b[38;5;28mself\u001b[39m\u001b[38;5;241m.\u001b[39mlookups)\n\u001b[0;32m--> 204\u001b[0m cik_map \u001b[38;5;241m=\u001b[39m \u001b[43mget_cik_map\u001b[49m\u001b[43m(\u001b[49m\u001b[43m)\u001b[49m\n\u001b[1;32m    206\u001b[0m \u001b[38;5;66;03m# all keys upper case\u001b[39;00m\n\u001b[1;32m    207\u001b[0m ticker_map \u001b[38;5;241m=\u001b[39m cik_map[\u001b[38;5;124m\"\u001b[39m\u001b[38;5;124mticker\u001b[39m\u001b[38;5;124m\"\u001b[39m]\n",
      "File \u001b[0;32m~/opt/anaconda3/envs/py39/lib/python3.9/site-packages/secedgar/cik_lookup.py:33\u001b[0m, in \u001b[0;36mget_cik_map\u001b[0;34m()\u001b[0m\n\u001b[1;32m     12\u001b[0m \u001b[38;5;250m\u001b[39m\u001b[38;5;124;03m\"\"\"Get dictionary of tickers and company names to CIK numbers.\u001b[39;00m\n\u001b[1;32m     13\u001b[0m \n\u001b[1;32m     14\u001b[0m \u001b[38;5;124;03mUses ``functools.lru_cache`` to cache response if used in later calls.\u001b[39;00m\n\u001b[0;32m   (...)\u001b[0m\n\u001b[1;32m     30\u001b[0m \u001b[38;5;124;03m.. versionadded:: 0.1.6\u001b[39;00m\n\u001b[1;32m     31\u001b[0m \u001b[38;5;124;03m\"\"\"\u001b[39;00m\n\u001b[1;32m     32\u001b[0m response \u001b[38;5;241m=\u001b[39m requests\u001b[38;5;241m.\u001b[39mget(\u001b[38;5;124m\"\u001b[39m\u001b[38;5;124mhttps://www.sec.gov/files/company_tickers.json\u001b[39m\u001b[38;5;124m\"\u001b[39m)\n\u001b[0;32m---> 33\u001b[0m json_response \u001b[38;5;241m=\u001b[39m \u001b[43mresponse\u001b[49m\u001b[38;5;241;43m.\u001b[39;49m\u001b[43mjson\u001b[49m\u001b[43m(\u001b[49m\u001b[43m)\u001b[49m\n\u001b[1;32m     34\u001b[0m \u001b[38;5;28;01mreturn\u001b[39;00m {key: {v[key]\u001b[38;5;241m.\u001b[39mupper(): \u001b[38;5;28mstr\u001b[39m(v[\u001b[38;5;124m\"\u001b[39m\u001b[38;5;124mcik_str\u001b[39m\u001b[38;5;124m\"\u001b[39m]) \u001b[38;5;28;01mfor\u001b[39;00m v \u001b[38;5;129;01min\u001b[39;00m json_response\u001b[38;5;241m.\u001b[39mvalues()\n\u001b[1;32m     35\u001b[0m               \u001b[38;5;28;01mif\u001b[39;00m v[key] \u001b[38;5;129;01mis\u001b[39;00m \u001b[38;5;129;01mnot\u001b[39;00m \u001b[38;5;28;01mNone\u001b[39;00m}\n\u001b[1;32m     36\u001b[0m         \u001b[38;5;28;01mfor\u001b[39;00m key \u001b[38;5;129;01min\u001b[39;00m (\u001b[38;5;124m\"\u001b[39m\u001b[38;5;124mticker\u001b[39m\u001b[38;5;124m\"\u001b[39m, \u001b[38;5;124m\"\u001b[39m\u001b[38;5;124mtitle\u001b[39m\u001b[38;5;124m\"\u001b[39m)}\n",
      "File \u001b[0;32m~/opt/anaconda3/envs/py39/lib/python3.9/site-packages/requests/models.py:975\u001b[0m, in \u001b[0;36mResponse.json\u001b[0;34m(self, **kwargs)\u001b[0m\n\u001b[1;32m    971\u001b[0m     \u001b[38;5;28;01mreturn\u001b[39;00m complexjson\u001b[38;5;241m.\u001b[39mloads(\u001b[38;5;28mself\u001b[39m\u001b[38;5;241m.\u001b[39mtext, \u001b[38;5;241m*\u001b[39m\u001b[38;5;241m*\u001b[39mkwargs)\n\u001b[1;32m    972\u001b[0m \u001b[38;5;28;01mexcept\u001b[39;00m JSONDecodeError \u001b[38;5;28;01mas\u001b[39;00m e:\n\u001b[1;32m    973\u001b[0m     \u001b[38;5;66;03m# Catch JSON-related errors and raise as requests.JSONDecodeError\u001b[39;00m\n\u001b[1;32m    974\u001b[0m     \u001b[38;5;66;03m# This aliases json.JSONDecodeError and simplejson.JSONDecodeError\u001b[39;00m\n\u001b[0;32m--> 975\u001b[0m     \u001b[38;5;28;01mraise\u001b[39;00m RequestsJSONDecodeError(e\u001b[38;5;241m.\u001b[39mmsg, e\u001b[38;5;241m.\u001b[39mdoc, e\u001b[38;5;241m.\u001b[39mpos)\n",
      "\u001b[0;31mJSONDecodeError\u001b[0m: Expecting value: line 1 column 1 (char 0)"
     ]
    }
   ],
   "source": [
    "# Get filing for Apple\n",
    "\n",
    "apple_filings = filings(cik_lookup=\"aapl\",\n",
    "                        filing_type = FilingType.FILING_10K,\n",
    "                        user_agent = \"Rafael ZHU (walkklaw@gmail.com)\")\n",
    "\n",
    "apple_filings.save(\"./\")"
   ]
  }
 ],
 "metadata": {
  "kernelspec": {
   "display_name": "Python 3 (ipykernel)",
   "language": "python",
   "name": "python3"
  },
  "language_info": {
   "codemirror_mode": {
    "name": "ipython",
    "version": 3
   },
   "file_extension": ".py",
   "mimetype": "text/x-python",
   "name": "python",
   "nbconvert_exporter": "python",
   "pygments_lexer": "ipython3",
   "version": "3.9.19"
  }
 },
 "nbformat": 4,
 "nbformat_minor": 5
}
