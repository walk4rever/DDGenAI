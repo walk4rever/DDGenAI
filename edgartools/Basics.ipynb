{
 "cells": [
  {
   "cell_type": "code",
   "execution_count": 1,
   "id": "d3ede248-0c5f-419b-a2b0-fd8a2dd9cf42",
   "metadata": {},
   "outputs": [],
   "source": [
    "# Edgartools can access any SEC filing: You can access any SEC filing since 1994."
   ]
  },
  {
   "cell_type": "code",
   "execution_count": 2,
   "id": "b05964d4-ecb7-4769-82bd-986fa66c7561",
   "metadata": {},
   "outputs": [
    {
     "name": "stdout",
     "output_type": "stream",
     "text": [
      "Requirement already satisfied: edgartools in /Users/yfzhu/opt/anaconda3/envs/py39/lib/python3.9/site-packages (2.23.1)\n",
      "Requirement already satisfied: beautifulsoup4>=4.10.0 in /Users/yfzhu/opt/anaconda3/envs/py39/lib/python3.9/site-packages (from edgartools) (4.12.3)\n",
      "Requirement already satisfied: charset-normalizer>=2.1.1 in /Users/yfzhu/opt/anaconda3/envs/py39/lib/python3.9/site-packages (from edgartools) (3.3.2)\n",
      "Requirement already satisfied: fastcore>=1.5.29 in /Users/yfzhu/opt/anaconda3/envs/py39/lib/python3.9/site-packages (from edgartools) (1.5.43)\n",
      "Requirement already satisfied: httpx>=0.25.0 in /Users/yfzhu/opt/anaconda3/envs/py39/lib/python3.9/site-packages (from edgartools) (0.27.0)\n",
      "Requirement already satisfied: humanize>=4.0.0 in /Users/yfzhu/opt/anaconda3/envs/py39/lib/python3.9/site-packages (from edgartools) (4.9.0)\n",
      "Requirement already satisfied: lxml>=4.4 in /Users/yfzhu/opt/anaconda3/envs/py39/lib/python3.9/site-packages (from edgartools) (5.2.1)\n",
      "Requirement already satisfied: orjson>=3.6.0 in /Users/yfzhu/opt/anaconda3/envs/py39/lib/python3.9/site-packages (from edgartools) (3.10.3)\n",
      "Requirement already satisfied: pandas>=2.0.0 in /Users/yfzhu/opt/anaconda3/envs/py39/lib/python3.9/site-packages (from edgartools) (2.1.1)\n",
      "Requirement already satisfied: pyarrow>=14.0.0 in /Users/yfzhu/opt/anaconda3/envs/py39/lib/python3.9/site-packages (from edgartools) (15.0.2)\n",
      "Requirement already satisfied: pydantic>=2.0.0 in /Users/yfzhu/opt/anaconda3/envs/py39/lib/python3.9/site-packages (from edgartools) (2.5.3)\n",
      "Requirement already satisfied: rank-bm25==0.2.1 in /Users/yfzhu/opt/anaconda3/envs/py39/lib/python3.9/site-packages (from edgartools) (0.2.1)\n",
      "Requirement already satisfied: rich>=13.0.0 in /Users/yfzhu/opt/anaconda3/envs/py39/lib/python3.9/site-packages (from edgartools) (13.6.0)\n",
      "Requirement already satisfied: stamina>=24.2.0 in /Users/yfzhu/opt/anaconda3/envs/py39/lib/python3.9/site-packages (from edgartools) (24.2.0)\n",
      "Requirement already satisfied: tabulate>=0.9.0 in /Users/yfzhu/opt/anaconda3/envs/py39/lib/python3.9/site-packages (from edgartools) (0.9.0)\n",
      "Requirement already satisfied: textdistance>=4.5.0 in /Users/yfzhu/opt/anaconda3/envs/py39/lib/python3.9/site-packages (from edgartools) (4.6.2)\n",
      "Requirement already satisfied: numpy in /Users/yfzhu/opt/anaconda3/envs/py39/lib/python3.9/site-packages (from rank-bm25==0.2.1->edgartools) (1.24.3)\n",
      "Requirement already satisfied: soupsieve>1.2 in /Users/yfzhu/opt/anaconda3/envs/py39/lib/python3.9/site-packages (from beautifulsoup4>=4.10.0->edgartools) (2.5)\n",
      "Requirement already satisfied: packaging in /Users/yfzhu/opt/anaconda3/envs/py39/lib/python3.9/site-packages (from fastcore>=1.5.29->edgartools) (24.0)\n",
      "Requirement already satisfied: anyio in /Users/yfzhu/opt/anaconda3/envs/py39/lib/python3.9/site-packages (from httpx>=0.25.0->edgartools) (4.3.0)\n",
      "Requirement already satisfied: certifi in /Users/yfzhu/opt/anaconda3/envs/py39/lib/python3.9/site-packages (from httpx>=0.25.0->edgartools) (2024.2.2)\n",
      "Requirement already satisfied: httpcore==1.* in /Users/yfzhu/opt/anaconda3/envs/py39/lib/python3.9/site-packages (from httpx>=0.25.0->edgartools) (1.0.5)\n",
      "Requirement already satisfied: idna in /Users/yfzhu/opt/anaconda3/envs/py39/lib/python3.9/site-packages (from httpx>=0.25.0->edgartools) (3.6)\n",
      "Requirement already satisfied: sniffio in /Users/yfzhu/opt/anaconda3/envs/py39/lib/python3.9/site-packages (from httpx>=0.25.0->edgartools) (1.3.1)\n",
      "Requirement already satisfied: h11<0.15,>=0.13 in /Users/yfzhu/opt/anaconda3/envs/py39/lib/python3.9/site-packages (from httpcore==1.*->httpx>=0.25.0->edgartools) (0.14.0)\n",
      "Requirement already satisfied: python-dateutil>=2.8.2 in /Users/yfzhu/opt/anaconda3/envs/py39/lib/python3.9/site-packages (from pandas>=2.0.0->edgartools) (2.9.0.post0)\n",
      "Requirement already satisfied: pytz>=2020.1 in /Users/yfzhu/opt/anaconda3/envs/py39/lib/python3.9/site-packages (from pandas>=2.0.0->edgartools) (2024.1)\n",
      "Requirement already satisfied: tzdata>=2022.1 in /Users/yfzhu/opt/anaconda3/envs/py39/lib/python3.9/site-packages (from pandas>=2.0.0->edgartools) (2024.1)\n",
      "Requirement already satisfied: annotated-types>=0.4.0 in /Users/yfzhu/opt/anaconda3/envs/py39/lib/python3.9/site-packages (from pydantic>=2.0.0->edgartools) (0.6.0)\n",
      "Requirement already satisfied: pydantic-core==2.14.6 in /Users/yfzhu/opt/anaconda3/envs/py39/lib/python3.9/site-packages (from pydantic>=2.0.0->edgartools) (2.14.6)\n",
      "Requirement already satisfied: typing-extensions>=4.6.1 in /Users/yfzhu/opt/anaconda3/envs/py39/lib/python3.9/site-packages (from pydantic>=2.0.0->edgartools) (4.9.0)\n",
      "Requirement already satisfied: markdown-it-py>=2.2.0 in /Users/yfzhu/opt/anaconda3/envs/py39/lib/python3.9/site-packages (from rich>=13.0.0->edgartools) (3.0.0)\n",
      "Requirement already satisfied: pygments<3.0.0,>=2.13.0 in /Users/yfzhu/opt/anaconda3/envs/py39/lib/python3.9/site-packages (from rich>=13.0.0->edgartools) (2.17.2)\n",
      "Requirement already satisfied: tenacity in /Users/yfzhu/opt/anaconda3/envs/py39/lib/python3.9/site-packages (from stamina>=24.2.0->edgartools) (8.2.3)\n",
      "Requirement already satisfied: mdurl~=0.1 in /Users/yfzhu/opt/anaconda3/envs/py39/lib/python3.9/site-packages (from markdown-it-py>=2.2.0->rich>=13.0.0->edgartools) (0.1.2)\n",
      "Requirement already satisfied: six>=1.5 in /Users/yfzhu/opt/anaconda3/envs/py39/lib/python3.9/site-packages (from python-dateutil>=2.8.2->pandas>=2.0.0->edgartools) (1.16.0)\n",
      "Requirement already satisfied: exceptiongroup>=1.0.2 in /Users/yfzhu/opt/anaconda3/envs/py39/lib/python3.9/site-packages (from anyio->httpx>=0.25.0->edgartools) (1.2.0)\n"
     ]
    }
   ],
   "source": [
    "!pip install edgartools"
   ]
  },
  {
   "cell_type": "code",
   "execution_count": 3,
   "id": "a22c071e-e4cf-4c9f-9d4c-54e96cee7730",
   "metadata": {},
   "outputs": [
    {
     "data": {
      "text/html": [
       "<pre style=\"white-space:pre;overflow-x:auto;line-height:normal;font-family:Menlo,'DejaVu Sans Mono',consolas,'Courier New',monospace\"><span style=\"color: #7fbfbf; text-decoration-color: #7fbfbf\">[11:31:06] </span><span style=\"color: #000080; text-decoration-color: #000080\">INFO    </span> Identity of the Edgar REST client set to <span style=\"font-weight: bold\">[</span>Rafael ZHU walkklaw@gmail.com<span style=\"font-weight: bold\">]</span>            <a href=\"file:///Users/yfzhu/opt/anaconda3/envs/py39/lib/python3.9/site-packages/edgar/core.py\" target=\"_blank\"><span style=\"color: #7f7f7f; text-decoration-color: #7f7f7f\">core.py</span></a><span style=\"color: #7f7f7f; text-decoration-color: #7f7f7f\">:</span><a href=\"file:///Users/yfzhu/opt/anaconda3/envs/py39/lib/python3.9/site-packages/edgar/core.py#148\" target=\"_blank\"><span style=\"color: #7f7f7f; text-decoration-color: #7f7f7f\">148</span></a>\n",
       "</pre>\n"
      ],
      "text/plain": [
       "\u001b[2;36m[11:31:06]\u001b[0m\u001b[2;36m \u001b[0m\u001b[34mINFO    \u001b[0m Identity of the Edgar REST client set to \u001b[1m[\u001b[0mRafael ZHU walkklaw@gmail.com\u001b[1m]\u001b[0m            \u001b]8;id=859658;file:///Users/yfzhu/opt/anaconda3/envs/py39/lib/python3.9/site-packages/edgar/core.py\u001b\\\u001b[2mcore.py\u001b[0m\u001b]8;;\u001b\\\u001b[2m:\u001b[0m\u001b]8;id=1399;file:///Users/yfzhu/opt/anaconda3/envs/py39/lib/python3.9/site-packages/edgar/core.py#148\u001b\\\u001b[2m148\u001b[0m\u001b]8;;\u001b\\\n"
      ]
     },
     "metadata": {},
     "output_type": "display_data"
    }
   ],
   "source": [
    "# Import and start using\n",
    "from edgar import *\n",
    "\n",
    "# Tell SEC who you are\n",
    "set_identity(\"Rafael ZHU walkklaw@gmail.com\")"
   ]
  },
  {
   "cell_type": "code",
   "execution_count": 10,
   "id": "767bfde2-a2f7-4a49-a1bf-f477f3513ee1",
   "metadata": {},
   "outputs": [],
   "source": [
    "filing = Company(\"KO\").get_filings(form=\"10-K\").latest(1)"
   ]
  },
  {
   "cell_type": "code",
   "execution_count": 11,
   "id": "67f4caf1-fed3-4ef3-8014-bd6e62f9d9f4",
   "metadata": {},
   "outputs": [
    {
     "data": {
      "text/html": [
       "<pre style=\"white-space:pre;overflow-x:auto;line-height:normal;font-family:Menlo,'DejaVu Sans Mono',consolas,'Courier New',monospace\"></pre>\n"
      ],
      "text/plain": []
     },
     "metadata": {},
     "output_type": "display_data"
    },
    {
     "data": {
      "text/plain": [
       "╭─────────────────────────────────────────────────────────────────────────────────────────────────────────────────╮\n",
       "│ ╭─────────────────────────────────────────────────────────────────────────────────────────────────────────────╮ │\n",
       "│ │ \u001b[3m                                         Documents                                         \u001b[0m                 │ │\n",
       "│ │                                                                                                             │ │\n",
       "│ │  \u001b[1m \u001b[0m\u001b[1mSeq\u001b[0m\u001b[1m \u001b[0m \u001b[1m \u001b[0m\u001b[1mDocument                 \u001b[0m\u001b[1m \u001b[0m \u001b[1m \u001b[0m\u001b[1mDescription                  \u001b[0m\u001b[1m \u001b[0m \u001b[1m \u001b[0m\u001b[1mType      \u001b[0m\u001b[1m \u001b[0m \u001b[1m \u001b[0m\u001b[1mSize    \u001b[0m\u001b[1m \u001b[0m                  │ │\n",
       "│ │  ─────────────────────────────────────────────────────────────────────────────────────────                  │ │\n",
       "│ │   1     ko-20231231.htm             10-K                            10-K         4.0 MB                     │ │\n",
       "│ │  \u001b[1m \u001b[0m\u001b[1m2  \u001b[0m\u001b[1m \u001b[0m \u001b[1m \u001b[0m\u001b[1ma20231231exhibit41.htm   \u001b[0m\u001b[1m \u001b[0m \u001b[1m \u001b[0m\u001b[1mEX-4.1                       \u001b[0m\u001b[1m \u001b[0m \u001b[1m \u001b[0m\u001b[1mEX-4.1    \u001b[0m\u001b[1m \u001b[0m \u001b[1m \u001b[0m\u001b[1m122.7 KB\u001b[0m\u001b[1m \u001b[0m                  │ │\n",
       "│ │   3     a20231231exhibit10529.htm   EX-10.5 29                      EX-10.5 29   214.9 KB                   │ │\n",
       "│ │  \u001b[1m \u001b[0m\u001b[1m4  \u001b[0m\u001b[1m \u001b[0m \u001b[1m \u001b[0m\u001b[1ma20231231exhibit10530.htm\u001b[0m\u001b[1m \u001b[0m \u001b[1m \u001b[0m\u001b[1mEX-10.5 30                   \u001b[0m\u001b[1m \u001b[0m \u001b[1m \u001b[0m\u001b[1mEX-10.5 30\u001b[0m\u001b[1m \u001b[0m \u001b[1m \u001b[0m\u001b[1m212.0 KB\u001b[0m\u001b[1m \u001b[0m                  │ │\n",
       "│ │   5     a20231231exhibit10531.htm   EX-10.5 31                      EX-10.5 31   215.8 KB                   │ │\n",
       "│ │  \u001b[1m \u001b[0m\u001b[1m6  \u001b[0m\u001b[1m \u001b[0m \u001b[1m \u001b[0m\u001b[1ma20231231exhibit1069.htm \u001b[0m\u001b[1m \u001b[0m \u001b[1m \u001b[0m\u001b[1mEX-10.6 9                    \u001b[0m\u001b[1m \u001b[0m \u001b[1m \u001b[0m\u001b[1mEX-10.6 9 \u001b[0m\u001b[1m \u001b[0m \u001b[1m \u001b[0m\u001b[1m6.5 KB  \u001b[0m\u001b[1m \u001b[0m                  │ │\n",
       "│ │   7     a20231231exhibit1074.htm    EX-10.7 4                       EX-10.7 4    6.5 KB                     │ │\n",
       "│ │  \u001b[1m \u001b[0m\u001b[1m8  \u001b[0m\u001b[1m \u001b[0m \u001b[1m \u001b[0m\u001b[1ma20231231exhibit1087.htm \u001b[0m\u001b[1m \u001b[0m \u001b[1m \u001b[0m\u001b[1mEX-10.8 7                    \u001b[0m\u001b[1m \u001b[0m \u001b[1m \u001b[0m\u001b[1mEX-10.8 7 \u001b[0m\u001b[1m \u001b[0m \u001b[1m \u001b[0m\u001b[1m6.4 KB  \u001b[0m\u001b[1m \u001b[0m                  │ │\n",
       "│ │   9     a20231231exhibit10103.htm   EX-10.10 3                      EX-10.10 3   5.6 KB                     │ │\n",
       "│ │  \u001b[1m \u001b[0m\u001b[1m10 \u001b[0m\u001b[1m \u001b[0m \u001b[1m \u001b[0m\u001b[1ma20231231exhibit1013.htm \u001b[0m\u001b[1m \u001b[0m \u001b[1m \u001b[0m\u001b[1mEX-10.13                     \u001b[0m\u001b[1m \u001b[0m \u001b[1m \u001b[0m\u001b[1mEX-10.13  \u001b[0m\u001b[1m \u001b[0m \u001b[1m \u001b[0m\u001b[1m104.8 KB\u001b[0m\u001b[1m \u001b[0m                  │ │\n",
       "│ │   11    a20231231exhibit211.htm     EX-21.1                         EX-21.1      25.0 KB                    │ │\n",
       "│ │  \u001b[1m \u001b[0m\u001b[1m12 \u001b[0m\u001b[1m \u001b[0m \u001b[1m \u001b[0m\u001b[1ma20231231exhibit231.htm  \u001b[0m\u001b[1m \u001b[0m \u001b[1m \u001b[0m\u001b[1mEX-23.1                      \u001b[0m\u001b[1m \u001b[0m \u001b[1m \u001b[0m\u001b[1mEX-23.1   \u001b[0m\u001b[1m \u001b[0m \u001b[1m \u001b[0m\u001b[1m9.8 KB  \u001b[0m\u001b[1m \u001b[0m                  │ │\n",
       "│ │   13    a20231231exhibit241.htm     EX-24.1                         EX-24.1      62.2 KB                    │ │\n",
       "│ │  \u001b[1m \u001b[0m\u001b[1m14 \u001b[0m\u001b[1m \u001b[0m \u001b[1m \u001b[0m\u001b[1ma20231231exhibit311.htm  \u001b[0m\u001b[1m \u001b[0m \u001b[1m \u001b[0m\u001b[1mEX-31.1                      \u001b[0m\u001b[1m \u001b[0m \u001b[1m \u001b[0m\u001b[1mEX-31.1   \u001b[0m\u001b[1m \u001b[0m \u001b[1m \u001b[0m\u001b[1m8.1 KB  \u001b[0m\u001b[1m \u001b[0m                  │ │\n",
       "│ │   15    a20231231exhibit312.htm     EX-31.2                         EX-31.2      7.9 KB                     │ │\n",
       "│ │  \u001b[1m \u001b[0m\u001b[1m16 \u001b[0m\u001b[1m \u001b[0m \u001b[1m \u001b[0m\u001b[1ma20231231exhibit321.htm  \u001b[0m\u001b[1m \u001b[0m \u001b[1m \u001b[0m\u001b[1mEX-32.1                      \u001b[0m\u001b[1m \u001b[0m \u001b[1m \u001b[0m\u001b[1mEX-32.1   \u001b[0m\u001b[1m \u001b[0m \u001b[1m \u001b[0m\u001b[1m6.0 KB  \u001b[0m\u001b[1m \u001b[0m                  │ │\n",
       "│ │   17    a20231231exhibit97.htm      EX-97                           EX-97        46.1 KB                    │ │\n",
       "│ │  \u001b[1m \u001b[0m\u001b[1m23 \u001b[0m\u001b[1m \u001b[0m \u001b[1m \u001b[0m\u001b[1mko-20231231_g1.jpg       \u001b[0m\u001b[1m \u001b[0m \u001b[1m \u001b[0m\u001b[1mIMAGE                        \u001b[0m\u001b[1m \u001b[0m \u001b[1m \u001b[0m\u001b[1mGRAPHIC   \u001b[0m\u001b[1m \u001b[0m \u001b[1m \u001b[0m\u001b[1m229.6 KB\u001b[0m\u001b[1m \u001b[0m                  │ │\n",
       "│ │   24    ko-20231231_g2.jpg          IMAGE                           GRAPHIC      136.8 KB                   │ │\n",
       "│ │  \u001b[1m \u001b[0m\u001b[1m25 \u001b[0m\u001b[1m \u001b[0m \u001b[1m \u001b[0m\u001b[1mko-20231231_g3.jpg       \u001b[0m\u001b[1m \u001b[0m \u001b[1m \u001b[0m\u001b[1mIMAGE                        \u001b[0m\u001b[1m \u001b[0m \u001b[1m \u001b[0m\u001b[1mGRAPHIC   \u001b[0m\u001b[1m \u001b[0m \u001b[1m \u001b[0m\u001b[1m23.2 KB \u001b[0m\u001b[1m \u001b[0m                  │ │\n",
       "│ │   26    ko-20231231_g4.jpg          IMAGE                           GRAPHIC      15.3 KB                    │ │\n",
       "│ │  \u001b[1m \u001b[0m\u001b[1m27 \u001b[0m\u001b[1m \u001b[0m \u001b[1m \u001b[0m\u001b[1mko-20231231_g5.jpg       \u001b[0m\u001b[1m \u001b[0m \u001b[1m \u001b[0m\u001b[1mIMAGE                        \u001b[0m\u001b[1m \u001b[0m \u001b[1m \u001b[0m\u001b[1mGRAPHIC   \u001b[0m\u001b[1m \u001b[0m \u001b[1m \u001b[0m\u001b[1m10.7 KB \u001b[0m\u001b[1m \u001b[0m                  │ │\n",
       "│ │   28    ko-20231231_g6.jpg          IMAGE                           GRAPHIC      20.6 KB                    │ │\n",
       "│ │  \u001b[1m \u001b[0m\u001b[1m   \u001b[0m\u001b[1m \u001b[0m \u001b[1m \u001b[0m\u001b[1m0000021344-24-000009.txt \u001b[0m\u001b[1m \u001b[0m \u001b[1m \u001b[0m\u001b[1mComplete submission text file\u001b[0m\u001b[1m \u001b[0m \u001b[1m \u001b[0m\u001b[1m          \u001b[0m\u001b[1m \u001b[0m \u001b[1m \u001b[0m\u001b[1m25.0 MB \u001b[0m\u001b[1m \u001b[0m                  │ │\n",
       "│ │                                                                                                             │ │\n",
       "│ ╰─────────────────────────────────────────────────────────────────────────────────────────────────────────────╯ │\n",
       "│ ╭─────────────────────────────────────────────────────────────────────────────────────────────────────────────╮ │\n",
       "│ │ \u001b[3m                                                Data Files                                                 \u001b[0m │ │\n",
       "│ │                                                                                                             │ │\n",
       "│ │  \u001b[1m \u001b[0m\u001b[1mSeq\u001b[0m\u001b[1m \u001b[0m \u001b[1m \u001b[0m\u001b[1mDocument           \u001b[0m\u001b[1m \u001b[0m \u001b[1m \u001b[0m\u001b[1mDescription                                        \u001b[0m\u001b[1m \u001b[0m \u001b[1m \u001b[0m\u001b[1mType      \u001b[0m\u001b[1m \u001b[0m \u001b[1m \u001b[0m\u001b[1mSize    \u001b[0m\u001b[1m \u001b[0m  │ │\n",
       "│ │  ─────────────────────────────────────────────────────────────────────────────────────────────────────────  │ │\n",
       "│ │   18    ko-20231231.xsd       XBRL TAXONOMY EXTENSION SCHEMA DOCUMENT               EX-101.SCH   121.6 KB   │ │\n",
       "│ │  \u001b[1m \u001b[0m\u001b[1m19 \u001b[0m\u001b[1m \u001b[0m \u001b[1m \u001b[0m\u001b[1mko-20231231_cal.xml\u001b[0m\u001b[1m \u001b[0m \u001b[1m \u001b[0m\u001b[1mXBRL TAXONOMY EXTENSION CALCULATION LINKBASE       \u001b[0m\u001b[1m \u001b[0m \u001b[1m \u001b[0m\u001b[1mEX-101.CAL\u001b[0m\u001b[1m \u001b[0m \u001b[1m \u001b[0m\u001b[1m235.9 KB\u001b[0m\u001b[1m \u001b[0m  │ │\n",
       "│ │  \u001b[1m     \u001b[0m \u001b[1m                     \u001b[0m \u001b[1m \u001b[0m\u001b[1mDOCUMENT                                           \u001b[0m\u001b[1m \u001b[0m \u001b[1m            \u001b[0m \u001b[1m          \u001b[0m  │ │\n",
       "│ │   20    ko-20231231_def.xml   XBRL TAXONOMY EXTENSION DEFINITION LINKBASE           EX-101.DEF   918.3 KB   │ │\n",
       "│ │                               DOCUMENT                                                                      │ │\n",
       "│ │  \u001b[1m \u001b[0m\u001b[1m21 \u001b[0m\u001b[1m \u001b[0m \u001b[1m \u001b[0m\u001b[1mko-20231231_lab.xml\u001b[0m\u001b[1m \u001b[0m \u001b[1m \u001b[0m\u001b[1mXBRL TAXONOMY EXTENSION LABEL LINKBASE DOCUMENT    \u001b[0m\u001b[1m \u001b[0m \u001b[1m \u001b[0m\u001b[1mEX-101.LAB\u001b[0m\u001b[1m \u001b[0m \u001b[1m \u001b[0m\u001b[1m1.5 MB  \u001b[0m\u001b[1m \u001b[0m  │ │\n",
       "│ │   22    ko-20231231_pre.xml   XBRL TAXONOMY EXTENSION PRESENTATION LINKBASE         EX-101.PRE   1.2 MB     │ │\n",
       "│ │                               DOCUMENT                                                                      │ │\n",
       "│ │  \u001b[1m \u001b[0m\u001b[1m173\u001b[0m\u001b[1m \u001b[0m \u001b[1m \u001b[0m\u001b[1mko-20231231_htm.xml\u001b[0m\u001b[1m \u001b[0m \u001b[1m \u001b[0m\u001b[1mEXTRACTED XBRL INSTANCE DOCUMENT                   \u001b[0m\u001b[1m \u001b[0m \u001b[1m \u001b[0m\u001b[1mXML       \u001b[0m\u001b[1m \u001b[0m \u001b[1m \u001b[0m\u001b[1m4.7 MB  \u001b[0m\u001b[1m \u001b[0m  │ │\n",
       "│ │                                                                                                             │ │\n",
       "│ ╰─────────────────────────────────────────────────────────────────────────────────────────────────────────────╯ │\n",
       "│ ╭─────────────────────────────────── COCA COLA CO (Filer) CIK: 0000021344 ────────────────────────────────────╮ │\n",
       "│ │ IRS No.: \u001b[1;36m580628465\u001b[0m | State of Incorp.: DE | Fiscal Year End: \u001b[1;36m1231\u001b[0m     Mailing Address                       │ │\n",
       "│ │ Type: \u001b[1;36m10\u001b[0m-K | Act: \u001b[1;36m34\u001b[0m | File No.: \u001b[1;36m001\u001b[0m-\u001b[1;36m02217\u001b[0m | Film No.: \u001b[1;36m24652148\u001b[0m       ONE COCA COLA PLAZA                   │ │\n",
       "│ │ SIC: \u001b[1;36m2080\u001b[0m Beverages                                                   ATLANTA GA \u001b[1;36m30313\u001b[0m                      │ │\n",
       "│ │ \u001b[1m(\u001b[0mCF Office: \u001b[1;36m04\u001b[0m Manufacturing\u001b[1m)\u001b[0m                                                                               │ │\n",
       "│ │ Business Address                                                                                            │ │\n",
       "│ │ ONE COCA COLA PLAZA                                                                                         │ │\n",
       "│ │ ATLANTA GA \u001b[1;36m30313\u001b[0m                                                                                            │ │\n",
       "│ │ \u001b[1;36m404\u001b[0m-\u001b[1;36m676\u001b[0m-\u001b[1;36m2121\u001b[0m                                                                                                │ │\n",
       "│ ╰─────────────────────────────────────────────────────────────────────────────────────────────────────────────╯ │\n",
       "╰─────────────────────────────────────────────────────────────────────────────────────────────────────────────────╯"
      ]
     },
     "execution_count": 11,
     "metadata": {},
     "output_type": "execute_result"
    }
   ],
   "source": [
    "filing.homepage"
   ]
  }
 ],
 "metadata": {
  "kernelspec": {
   "display_name": "Python 3 (ipykernel)",
   "language": "python",
   "name": "python3"
  },
  "language_info": {
   "codemirror_mode": {
    "name": "ipython",
    "version": 3
   },
   "file_extension": ".py",
   "mimetype": "text/x-python",
   "name": "python",
   "nbconvert_exporter": "python",
   "pygments_lexer": "ipython3",
   "version": "3.9.19"
  }
 },
 "nbformat": 4,
 "nbformat_minor": 5
}
