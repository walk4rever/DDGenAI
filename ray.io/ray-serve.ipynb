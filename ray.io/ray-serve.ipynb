{
 "cells": [
  {
   "cell_type": "code",
   "execution_count": 2,
   "id": "2d1cf808-5660-4920-88ba-b35335edfc55",
   "metadata": {},
   "outputs": [],
   "source": [
    "import requests\n",
    "from starlette.requests import Request\n",
    "from typing import Dict\n",
    "\n",
    "from ray import serve"
   ]
  },
  {
   "cell_type": "code",
   "execution_count": 3,
   "id": "bd77a2c6-1146-4e65-8e4d-daae97df7102",
   "metadata": {},
   "outputs": [],
   "source": [
    "# 1: Define a Ray Serve application\n",
    "\n",
    "@serve.deployment\n",
    "\n",
    "class MyModelDeployment:\n",
    "    def __init__(self, msg: str):\n",
    "        # Initialize model state, cloud be very large neural net weights.\n",
    "        self._msg = msg\n",
    "\n",
    "    def __call__(self, request: Request) -> Dict:\n",
    "        return {\"result\": self._msg}\n",
    "        "
   ]
  },
  {
   "cell_type": "code",
   "execution_count": 4,
   "id": "da1293b6-c1b5-4641-aad2-2b5915ff127a",
   "metadata": {},
   "outputs": [],
   "source": [
    "app = MyModelDeployment.bind(msg=\"Hello world!\")"
   ]
  },
  {
   "cell_type": "code",
   "execution_count": 5,
   "id": "fe466896-e65c-4763-bdaa-92cf6332af93",
   "metadata": {},
   "outputs": [
    {
     "name": "stderr",
     "output_type": "stream",
     "text": [
      "2024-05-24 15:45:07,938\tINFO worker.py:1740 -- Started a local Ray instance. View the dashboard at \u001b[1m\u001b[32m127.0.0.1:8265 \u001b[39m\u001b[22m\n",
      "\u001b[36m(ProxyActor pid=60263)\u001b[0m INFO 2024-05-24 15:45:11,299 proxy 127.0.0.1 proxy.py:1161 - Proxy starting on node 2be81b1f16dd9b522e239605cf383efd956afb59802c9b8e08b9ad19 (HTTP port: 8000).\n",
      "2024-05-24 15:45:11,974\tINFO handle.py:126 -- Created DeploymentHandle 'vi79j7kg' for Deployment(name='MyModelDeployment', app='default').\n",
      "2024-05-24 15:45:11,974\tINFO handle.py:126 -- Created DeploymentHandle 'i5hlp8ac' for Deployment(name='MyModelDeployment', app='default').\n",
      "\u001b[36m(ServeController pid=60254)\u001b[0m INFO 2024-05-24 15:45:12,053 controller 60254 deployment_state.py:1598 - Deploying new version of Deployment(name='MyModelDeployment', app='default') (initial target replicas: 1).\n",
      "\u001b[36m(ServeController pid=60254)\u001b[0m INFO 2024-05-24 15:45:12,157 controller 60254 deployment_state.py:1844 - Adding 1 replica to Deployment(name='MyModelDeployment', app='default').\n",
      "2024-05-24 15:45:13,993\tINFO handle.py:126 -- Created DeploymentHandle 'v6symjpj' for Deployment(name='MyModelDeployment', app='default').\n",
      "2024-05-24 15:45:13,994\tINFO api.py:584 -- Deployed app 'default' successfully.\n",
      "2024-05-24 15:45:14,002\tINFO handle.py:126 -- Created DeploymentHandle '6ln380il' for Deployment(name='MyModelDeployment', app='default').\n",
      "2024-05-24 15:45:14,003\tINFO handle.py:126 -- Created DeploymentHandle 'k6ci4pzh' for Deployment(name='MyModelDeployment', app='default').\n",
      "2024-05-24 15:45:14,007\tINFO handle.py:126 -- Created DeploymentHandle 'nzfvqf6g' for Deployment(name='MyModelDeployment', app='default').\n",
      "2024-05-24 15:45:14,011\tINFO handle.py:126 -- Created DeploymentHandle 'wdr1iivp' for Deployment(name='MyModelDeployment', app='default').\n",
      "2024-05-24 15:45:14,013\tINFO handle.py:126 -- Created DeploymentHandle 'xx0zk9d0' for Deployment(name='MyModelDeployment', app='default').\n",
      "2024-05-24 15:45:14,014\tINFO handle.py:126 -- Created DeploymentHandle 'jm18zbly' for Deployment(name='MyModelDeployment', app='default').\n",
      "2024-05-24 15:45:14,019\tINFO handle.py:126 -- Created DeploymentHandle 'yrara8ez' for Deployment(name='MyModelDeployment', app='default').\n",
      "2024-05-24 15:45:14,019\tINFO pow_2_scheduler.py:260 -- Got updated replicas for Deployment(name='MyModelDeployment', app='default'): {'vj13s9jo'}.\n",
      "2024-05-24 15:45:14,020\tINFO handle.py:126 -- Created DeploymentHandle 'h43toxgb' for Deployment(name='MyModelDeployment', app='default').\n",
      "2024-05-24 15:45:14,022\tINFO handle.py:126 -- Created DeploymentHandle 'vpq5kdk4' for Deployment(name='MyModelDeployment', app='default').\n",
      "2024-05-24 15:45:14,023\tINFO handle.py:126 -- Created DeploymentHandle 'rjpyxz1m' for Deployment(name='MyModelDeployment', app='default').\n",
      "2024-05-24 15:45:14,024\tINFO handle.py:126 -- Created DeploymentHandle '2r74csbx' for Deployment(name='MyModelDeployment', app='default').\n"
     ]
    },
    {
     "data": {
      "text/plain": [
       "DeploymentHandle(deployment='MyModelDeployment')"
      ]
     },
     "execution_count": 5,
     "metadata": {},
     "output_type": "execute_result"
    }
   ],
   "source": [
    "# 2: Deploy the application locally\n",
    "serve.run(app, route_prefix=\"/\")"
   ]
  },
  {
   "cell_type": "code",
   "execution_count": 7,
   "id": "e141744d-83c5-4dd1-875e-af1c73c9c6a7",
   "metadata": {},
   "outputs": [
    {
     "name": "stdout",
     "output_type": "stream",
     "text": [
      "{'result': 'Hello world!'}\n"
     ]
    },
    {
     "name": "stderr",
     "output_type": "stream",
     "text": [
      "\u001b[36m(ServeReplica:default:MyModelDeployment pid=60277)\u001b[0m INFO 2024-05-24 15:46:04,550 default_MyModelDeployment vj13s9jo 411aadd1-3763-4cf9-af30-7854df67fda9 / replica.py:373 - __CALL__ OK 3.6ms\n"
     ]
    }
   ],
   "source": [
    "# 3: Query the application and print the result.\n",
    "print(requests.get(\"http://localhost:8000/\").json())"
   ]
  }
 ],
 "metadata": {
  "kernelspec": {
   "display_name": "Python 3 (ipykernel)",
   "language": "python",
   "name": "python3"
  },
  "language_info": {
   "codemirror_mode": {
    "name": "ipython",
    "version": 3
   },
   "file_extension": ".py",
   "mimetype": "text/x-python",
   "name": "python",
   "nbconvert_exporter": "python",
   "pygments_lexer": "ipython3",
   "version": "3.9.19"
  }
 },
 "nbformat": 4,
 "nbformat_minor": 5
}
