{
 "cells": [
  {
   "cell_type": "code",
   "execution_count": 1,
   "id": "84a19c47-140f-410c-b4bb-b7a714e98ebf",
   "metadata": {},
   "outputs": [],
   "source": [
    "import mlx.core as mx"
   ]
  },
  {
   "cell_type": "code",
   "execution_count": 2,
   "id": "7039d98b-5404-4801-990f-e2b7bc8c3285",
   "metadata": {},
   "outputs": [],
   "source": [
    "a = mx.array([1, 2, 3, 4])"
   ]
  },
  {
   "cell_type": "code",
   "execution_count": 4,
   "id": "ce58fb8f-f13a-46fa-a100-f27b18d6cf72",
   "metadata": {},
   "outputs": [
    {
     "data": {
      "text/plain": [
       "(4,)"
      ]
     },
     "execution_count": 4,
     "metadata": {},
     "output_type": "execute_result"
    }
   ],
   "source": [
    "a.shape"
   ]
  },
  {
   "cell_type": "code",
   "execution_count": 5,
   "id": "60156322-0e93-4062-8bf5-09ce171994ab",
   "metadata": {},
   "outputs": [
    {
     "data": {
      "text/plain": [
       "mlx.core.int32"
      ]
     },
     "execution_count": 5,
     "metadata": {},
     "output_type": "execute_result"
    }
   ],
   "source": [
    "a.dtype"
   ]
  },
  {
   "cell_type": "code",
   "execution_count": 6,
   "id": "f9227a88-08b6-4625-a862-fafa20203ac0",
   "metadata": {},
   "outputs": [],
   "source": [
    "b = mx.array([1., 2., 3., 4.0])"
   ]
  },
  {
   "cell_type": "code",
   "execution_count": 7,
   "id": "60d56e51-9678-4a63-9a93-250ebdc93d55",
   "metadata": {},
   "outputs": [
    {
     "data": {
      "text/plain": [
       "mlx.core.float32"
      ]
     },
     "execution_count": 7,
     "metadata": {},
     "output_type": "execute_result"
    }
   ],
   "source": [
    "b.dtype"
   ]
  },
  {
   "cell_type": "code",
   "execution_count": 9,
   "id": "954f0a3a-9357-4338-8cc0-7cf8498b72a6",
   "metadata": {},
   "outputs": [
    {
     "name": "stdout",
     "output_type": "stream",
     "text": [
      "array([2, 4, 6, 8], dtype=float32)\n"
     ]
    }
   ],
   "source": [
    "c = a + b\n",
    "mx.eval(c)\n",
    "print(c)"
   ]
  },
  {
   "cell_type": "code",
   "execution_count": 11,
   "id": "b62db969-d26b-492b-bd8e-8f67036ad69e",
   "metadata": {},
   "outputs": [],
   "source": [
    "import numpy as np"
   ]
  },
  {
   "cell_type": "code",
   "execution_count": 12,
   "id": "fc968624-7700-4d5a-bf80-afcdbc6a30ad",
   "metadata": {},
   "outputs": [
    {
     "data": {
      "text/plain": [
       "array([2., 4., 6., 8.], dtype=float32)"
      ]
     },
     "execution_count": 12,
     "metadata": {},
     "output_type": "execute_result"
    }
   ],
   "source": [
    "np.array(c)"
   ]
  },
  {
   "cell_type": "code",
   "execution_count": 13,
   "id": "537435b6-4e38-4e71-9e02-82598b0a3b7a",
   "metadata": {},
   "outputs": [
    {
     "data": {
      "text/plain": [
       "array(0, dtype=float32)"
      ]
     },
     "execution_count": 13,
     "metadata": {},
     "output_type": "execute_result"
    }
   ],
   "source": [
    "x = mx.array(0.0)\n",
    "mx.sin(x)"
   ]
  },
  {
   "cell_type": "code",
   "execution_count": 14,
   "id": "6e006828-996e-45ea-ac79-c6e64bcad77b",
   "metadata": {},
   "outputs": [
    {
     "data": {
      "text/plain": [
       "array(1, dtype=float32)"
      ]
     },
     "execution_count": 14,
     "metadata": {},
     "output_type": "execute_result"
    }
   ],
   "source": [
    "mx.grad(mx.sin)(x)"
   ]
  },
  {
   "cell_type": "code",
   "execution_count": 15,
   "id": "b52b586b-f563-40fb-a9d1-c505112d5310",
   "metadata": {},
   "outputs": [
    {
     "data": {
      "text/plain": [
       "array(-0, dtype=float32)"
      ]
     },
     "execution_count": 15,
     "metadata": {},
     "output_type": "execute_result"
    }
   ],
   "source": [
    "mx.grad(mx.grad(mx.sin))(x)"
   ]
  }
 ],
 "metadata": {
  "kernelspec": {
   "display_name": "Python 3 (ipykernel)",
   "language": "python",
   "name": "python3"
  },
  "language_info": {
   "codemirror_mode": {
    "name": "ipython",
    "version": 3
   },
   "file_extension": ".py",
   "mimetype": "text/x-python",
   "name": "python",
   "nbconvert_exporter": "python",
   "pygments_lexer": "ipython3",
   "version": "3.9.19"
  }
 },
 "nbformat": 4,
 "nbformat_minor": 5
}
