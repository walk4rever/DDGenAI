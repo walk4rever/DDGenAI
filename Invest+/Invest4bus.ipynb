{
 "cells": [
  {
   "cell_type": "code",
   "execution_count": 15,
   "id": "19937f4d",
   "metadata": {},
   "outputs": [
    {
     "name": "stdout",
     "output_type": "stream",
     "text": [
      "项数 N = 22\n"
     ]
    }
   ],
   "source": [
    "# 一个测试例子，用于计算初始投资回收的年限\n",
    "def calculate_years(E0, G, P):\n",
    "    \"\"\"\n",
    "    计算从初始值E0开始,以年复利增长率G,累计到达预设值P所需的年数N。\n",
    "    \n",
    "    参数:\n",
    "    E0 (float): 初始值\n",
    "    G (float): 年复利增长率,取值范围(0, 1)\n",
    "    P (float): 预设累计值\n",
    "    \n",
    "    返回:\n",
    "    N (int): 达到预设累计值P所需的年数\n",
    "    \"\"\"\n",
    "    \n",
    "    PE = P / E0\n",
    "    #print(f\"PE = {PE}\")  \n",
    "    \n",
    "    total = 0  # 初始累计值\n",
    "    N = 0  # 初始年数\n",
    "    \n",
    "    while total < P:\n",
    "        N += 1\n",
    "        E = E0 * (1 + G) ** N  # 计算当年值E,修正公式\n",
    "        total += E  # 累加到总值\n",
    "        #print(f\"E{N} = {E}, T = {total}\")\n",
    "        \n",
    "    return N\n",
    "\n",
    "# 示例用法\n",
    "P = 68.46\n",
    "E0 = 2.47\n",
    "G = 0.0245\n",
    "\n",
    "N = calculate_years(E0, G, P)\n",
    "print(\"项数 N =\", N)"
   ]
  },
  {
   "cell_type": "code",
   "execution_count": 14,
   "id": "658fa36f",
   "metadata": {},
   "outputs": [
    {
     "name": "stdout",
     "output_type": "stream",
     "text": [
      "项数 N = 22\n"
     ]
    }
   ],
   "source": [
    "# 利用LLM推导出来的公式，目前测试有点问题\n",
    "\n",
    "import math\n",
    "\n",
    "def estimate_years(E0, G, P):\n",
    "  \"\"\"\n",
    "  计算等比数列的项数\n",
    "\n",
    "  Args:\n",
    "    P: 等比数列的和\n",
    "    E0: 首项\n",
    "    G: 增长率\n",
    "\n",
    "  Returns:\n",
    "    项数 N\n",
    "  \"\"\"\n",
    "\n",
    "  if G == 0:\n",
    "    raise ValueError(\"增长率G不能为0\")\n",
    "\n",
    "  N = math.ceil(math.log((P * G / E0) + 1, 1 + G))\n",
    "  return N\n",
    "\n",
    "# 示例用法\n",
    "P = 68.46\n",
    "E0 = 2.47\n",
    "G = 0.0245\n",
    "\n",
    "N = estimate_years(E0, G, P)\n",
    "print(\"项数 N =\", N)\n"
   ]
  },
  {
   "cell_type": "code",
   "execution_count": 12,
   "id": "3105b545",
   "metadata": {},
   "outputs": [
    {
     "name": "stdout",
     "output_type": "stream",
     "text": [
      "达到预设累计值30所需的年数1为: 19年\n",
      "达到预设累计值30所需的年数2为: 19年\n"
     ]
    }
   ],
   "source": [
    "# 使用示例\n",
    "initial_value = 1  # 初始值E0\n",
    "growth_rate = 0.05  # 年复利增长率G\n",
    "target_value = 30  # 预设累计值P\n",
    "\n",
    "years1 = calculate_years(initial_value, growth_rate, target_value)\n",
    "print(f\"达到预设累计值{target_value}所需的年数1为: {years1}年\")\n",
    "\n",
    "years2 = estimate_years(initial_value, growth_rate, target_value)\n",
    "print(f\"达到预设累计值{target_value}所需的年数2为: {years2}年\")"
   ]
  },
  {
   "cell_type": "code",
   "execution_count": 16,
   "id": "30ee0dee",
   "metadata": {},
   "outputs": [
    {
     "name": "stdout",
     "output_type": "stream",
     "text": [
      "年复利增长率(G) | P/E0 = 10 | P/E0 = 20 | P/E0 = 30 | P/E0 = 40 | P/E0 = 50 | P/E0 = 60\n",
      "----------------+------------+------------+------------+------------+------------+------------\n",
      "0.05            |         8   |        14   |        19   |        22   |        25   |        28   |\n",
      "0.10            |         7   |        11   |        14   |        17   |        18   |        20   |\n",
      "0.15            |         6   |        10   |        12   |        14   |        15   |        16   |\n",
      "0.20            |         6   |         9   |        10   |        12   |        13   |        14   |\n",
      "0.25            |         5   |         8   |         9   |        10   |        11   |        12   |\n",
      "0.30            |         5   |         7   |         8   |         9   |        10   |        11   |\n",
      "0.35            |         5   |         7   |         8   |         9   |         9   |        10   |\n",
      "0.40            |         5   |         6   |         7   |         8   |         9   |         9   |\n"
     ]
    }
   ],
   "source": [
    "growth_rates = [0.05, 0.10, 0.15, 0.20, 0.25, 0.30, 0.35, 0.40]\n",
    "ratios = [10, 20, 30, 40, 50, 60]\n",
    "\n",
    "print(\"年复利增长率(G) | P/E0 = 10 | P/E0 = 20 | P/E0 = 30 | P/E0 = 40 | P/E0 = 50 | P/E0 = 60\")\n",
    "print(\"----------------+------------+------------+------------+------------+------------+------------\")\n",
    "\n",
    "for G in growth_rates:\n",
    "    row = f\"{G:.2f}            |\"\n",
    "    for ratio in ratios:\n",
    "        E0 = 1  # 设置初始值为1\n",
    "        P = ratio  # P/E0的值就是ratio\n",
    "        N = calculate_years(E0, G, P)\n",
    "        row += f\"     {N:>5}   |\"\n",
    "    print(row)\n"
   ]
  },
  {
   "cell_type": "code",
   "execution_count": 2,
   "id": "526e7886",
   "metadata": {},
   "outputs": [
    {
     "name": "stdout",
     "output_type": "stream",
     "text": [
      "项数 N = 19\n"
     ]
    }
   ],
   "source": [
    "# 让GTP4o重新了一下\n",
    "\n",
    "import math\n",
    "\n",
    "def calculate_geometric_series_terms(initial_value, growth_rate, total_sum):\n",
    "    \"\"\"\n",
    "    计算等比数列的项数\n",
    "\n",
    "    参数:\n",
    "        initial_value: 等比数列的首项\n",
    "        growth_rate: 等比数列的增长率\n",
    "        total_sum: 等比数列的目标和\n",
    "\n",
    "    返回:\n",
    "        项数 N\n",
    "    \"\"\"\n",
    "\n",
    "    if growth_rate == 0:\n",
    "        raise ValueError(\"增长率不能为0\")\n",
    "\n",
    "    # 计算等比数列项数的公式，并对结果进行向上取整\n",
    "    num_terms = math.ceil(math.log((total_sum * growth_rate / initial_value) + 1, 1 + growth_rate))\n",
    "    return num_terms\n",
    "\n",
    "# 示例用法\n",
    "total_sum = 30\n",
    "initial_value = 1\n",
    "growth_rate = 0.05\n",
    "\n",
    "num_terms = calculate_geometric_series_terms(initial_value, growth_rate, total_sum)\n",
    "print(\"项数 N =\", num_terms)"
   ]
  }
 ],
 "metadata": {
  "kernelspec": {
   "display_name": "Python 3 (ipykernel)",
   "language": "python",
   "name": "python3"
  },
  "language_info": {
   "codemirror_mode": {
    "name": "ipython",
    "version": 3
   },
   "file_extension": ".py",
   "mimetype": "text/x-python",
   "name": "python",
   "nbconvert_exporter": "python",
   "pygments_lexer": "ipython3",
   "version": "3.9.18"
  }
 },
 "nbformat": 4,
 "nbformat_minor": 5
}
