{
 "cells": [
  {
   "cell_type": "code",
   "execution_count": 19,
   "id": "19937f4d",
   "metadata": {},
   "outputs": [],
   "source": [
    "# 一个测试例子，用于计算初始投资回收的年限\n",
    "def calculate_years(E0, G, P):\n",
    "    \"\"\"\n",
    "    计算从初始值E0开始,以年复利增长率G,累计到达预设值P所需的年数N。\n",
    "    \n",
    "    参数:\n",
    "    E0 (float): 初始值\n",
    "    G (float): 年复利增长率,取值范围(0, 1)\n",
    "    P (float): 预设累计值\n",
    "    \n",
    "    返回:\n",
    "    N (int): 达到预设累计值P所需的年数\n",
    "    \"\"\"\n",
    "    \n",
    "    PE = P / E0\n",
    "    print(f\"PE = {PE}\")  \n",
    "    total = 0  # 初始累计值\n",
    "    N = 0  # 初始年数\n",
    "    \n",
    "    while total < P:\n",
    "        N += 1\n",
    "        E = E0 * (1 + G) ** N  # 计算当年值E,修正公式\n",
    "        total += E  # 累加到总值\n",
    "        print(f\"E{N} = {E}, T = {total}\")\n",
    "        \n",
    "    return N"
   ]
  },
  {
   "cell_type": "code",
   "execution_count": 23,
   "id": "3105b545",
   "metadata": {},
   "outputs": [
    {
     "name": "stdout",
     "output_type": "stream",
     "text": [
      "PE = 20.0\n",
      "E1 = 55.00000000000001, T = 55.00000000000001\n",
      "E2 = 60.50000000000001, T = 115.50000000000001\n",
      "E3 = 66.55000000000003, T = 182.05000000000004\n",
      "E4 = 73.20500000000003, T = 255.25500000000005\n",
      "E5 = 80.52550000000002, T = 335.7805000000001\n",
      "E6 = 88.57805000000005, T = 424.35855000000015\n",
      "E7 = 97.43585500000006, T = 521.7944050000002\n",
      "E8 = 107.17944050000008, T = 628.9738455000003\n",
      "E9 = 117.8973845500001, T = 746.8712300500003\n",
      "E10 = 129.6871230050001, T = 876.5583530550005\n",
      "E11 = 142.65583530550012, T = 1019.2141883605005\n",
      "达到预设累计值1000所需的年数为: 11年\n"
     ]
    }
   ],
   "source": [
    "# 使用示例\n",
    "initial_value = 50  # 初始值E0\n",
    "growth_rate = 0.10  # 年复利增长率G\n",
    "target_value = 1000  # 预设累计值P\n",
    "\n",
    "years = calculate_years(initial_value, growth_rate, target_value)\n",
    "print(f\"达到预设累计值{target_value}所需的年数为: {years}年\")"
   ]
  }
 ],
 "metadata": {
  "kernelspec": {
   "display_name": "Python 3 (ipykernel)",
   "language": "python",
   "name": "python3"
  },
  "language_info": {
   "codemirror_mode": {
    "name": "ipython",
    "version": 3
   },
   "file_extension": ".py",
   "mimetype": "text/x-python",
   "name": "python",
   "nbconvert_exporter": "python",
   "pygments_lexer": "ipython3",
   "version": "3.9.18"
  }
 },
 "nbformat": 4,
 "nbformat_minor": 5
}
