{
 "cells": [
  {
   "cell_type": "markdown",
   "metadata": {},
   "source": [
    "# Chapter 2 Prelimiaries"
   ]
  },
  {
   "cell_type": "code",
   "execution_count": 1,
   "metadata": {},
   "outputs": [],
   "source": [
    "from d2l import torch as d2l"
   ]
  },
  {
   "cell_type": "code",
   "execution_count": 2,
   "metadata": {},
   "outputs": [],
   "source": [
    "import torch"
   ]
  },
  {
   "cell_type": "code",
   "execution_count": 4,
   "metadata": {},
   "outputs": [
    {
     "data": {
      "text/plain": [
       "tensor([ 0.,  1.,  2.,  3.,  4.,  5.,  6.,  7.,  8.,  9., 10., 11.])"
      ]
     },
     "execution_count": 4,
     "metadata": {},
     "output_type": "execute_result"
    }
   ],
   "source": [
    "x = torch.arange(12, dtype=torch.float32)\n",
    "x"
   ]
  },
  {
   "cell_type": "code",
   "execution_count": 5,
   "metadata": {},
   "outputs": [
    {
     "data": {
      "text/plain": [
       "12"
      ]
     },
     "execution_count": 5,
     "metadata": {},
     "output_type": "execute_result"
    }
   ],
   "source": [
    "x.numel()"
   ]
  },
  {
   "cell_type": "code",
   "execution_count": 7,
   "metadata": {},
   "outputs": [
    {
     "data": {
      "text/plain": [
       "torch.Size([12])"
      ]
     },
     "execution_count": 7,
     "metadata": {},
     "output_type": "execute_result"
    }
   ],
   "source": [
    "x.shape"
   ]
  },
  {
   "cell_type": "code",
   "execution_count": 8,
   "metadata": {},
   "outputs": [
    {
     "data": {
      "text/plain": [
       "tensor([[ 0.,  1.,  2.,  3.],\n",
       "        [ 4.,  5.,  6.,  7.],\n",
       "        [ 8.,  9., 10., 11.]])"
      ]
     },
     "execution_count": 8,
     "metadata": {},
     "output_type": "execute_result"
    }
   ],
   "source": [
    "X = x.reshape(3, 4)\n",
    "X"
   ]
  },
  {
   "cell_type": "code",
   "execution_count": 12,
   "metadata": {},
   "outputs": [
    {
     "data": {
      "text/plain": [
       "tensor([[ 0.,  1.,  2.,  3.],\n",
       "        [ 4.,  5.,  6.,  7.],\n",
       "        [ 8.,  9., 10., 11.]])"
      ]
     },
     "execution_count": 12,
     "metadata": {},
     "output_type": "execute_result"
    }
   ],
   "source": [
    "Y = x.reshape(-1, 4)\n",
    "Y"
   ]
  },
  {
   "cell_type": "code",
   "execution_count": 13,
   "metadata": {},
   "outputs": [
    {
     "data": {
      "text/plain": [
       "tensor([[ 0.,  1.,  2.,  3.],\n",
       "        [ 4.,  5.,  6.,  7.],\n",
       "        [ 8.,  9., 10., 11.]])"
      ]
     },
     "execution_count": 13,
     "metadata": {},
     "output_type": "execute_result"
    }
   ],
   "source": [
    "Z = x.reshape(3, -1)\n",
    "Z"
   ]
  },
  {
   "cell_type": "code",
   "execution_count": 15,
   "metadata": {},
   "outputs": [
    {
     "data": {
      "text/plain": [
       "tensor([[[0., 0., 0., 0.],\n",
       "         [0., 0., 0., 0.],\n",
       "         [0., 0., 0., 0.]],\n",
       "\n",
       "        [[0., 0., 0., 0.],\n",
       "         [0., 0., 0., 0.],\n",
       "         [0., 0., 0., 0.]]])"
      ]
     },
     "execution_count": 15,
     "metadata": {},
     "output_type": "execute_result"
    }
   ],
   "source": [
    "X = torch.zeros((2, 3, 4))\n",
    "X"
   ]
  },
  {
   "cell_type": "code",
   "execution_count": 16,
   "metadata": {},
   "outputs": [
    {
     "data": {
      "text/plain": [
       "tensor([[[1., 1.],\n",
       "         [1., 1.],\n",
       "         [1., 1.]],\n",
       "\n",
       "        [[1., 1.],\n",
       "         [1., 1.],\n",
       "         [1., 1.]],\n",
       "\n",
       "        [[1., 1.],\n",
       "         [1., 1.],\n",
       "         [1., 1.]],\n",
       "\n",
       "        [[1., 1.],\n",
       "         [1., 1.],\n",
       "         [1., 1.]]])"
      ]
     },
     "execution_count": 16,
     "metadata": {},
     "output_type": "execute_result"
    }
   ],
   "source": [
    "torch.ones((4, 3, 2))"
   ]
  },
  {
   "cell_type": "code",
   "execution_count": 18,
   "metadata": {},
   "outputs": [
    {
     "data": {
      "text/plain": [
       "tensor([[0.1008, 0.7066, 0.6447, 0.1720],\n",
       "        [0.3240, 0.6484, 0.5930, 0.0292],\n",
       "        [0.2713, 0.5787, 0.8519, 0.1225]])"
      ]
     },
     "execution_count": 18,
     "metadata": {},
     "output_type": "execute_result"
    }
   ],
   "source": [
    "# Create a tensor with elements drawn from \n",
    "# a standard Gaussian(normal) distribution \n",
    "# with mean 0 and standard deviation 1.\n",
    "\n",
    "torch.rand(3, 4)"
   ]
  },
  {
   "cell_type": "code",
   "execution_count": 20,
   "metadata": {},
   "outputs": [
    {
     "data": {
      "text/plain": [
       "tensor([[2, 1, 4, 3],\n",
       "        [1, 2, 3, 4],\n",
       "        [4, 3, 2, 1]])"
      ]
     },
     "execution_count": 20,
     "metadata": {},
     "output_type": "execute_result"
    }
   ],
   "source": [
    "torch.tensor([[2, 1, 4, 3], [1, 2, 3, 4], [4, 3, 2, 1]])"
   ]
  },
  {
   "cell_type": "code",
   "execution_count": 4,
   "metadata": {},
   "outputs": [
    {
     "name": "stdout",
     "output_type": "stream",
     "text": [
      "Requirement already satisfied: jax in /Users/yfzhu/opt/anaconda3/envs/d2l/lib/python3.9/site-packages (0.4.25)\n",
      "Collecting jaxlib\n",
      "  Obtaining dependency information for jaxlib from https://files.pythonhosted.org/packages/c3/7b/9de4634dcf8590cf68245aead7336f499aab92f4b9e0c4efb4271692be12/jaxlib-0.4.25-cp39-cp39-macosx_10_14_x86_64.whl.metadata\n",
      "  Downloading jaxlib-0.4.25-cp39-cp39-macosx_10_14_x86_64.whl.metadata (2.1 kB)\n",
      "Requirement already satisfied: ml-dtypes>=0.2.0 in /Users/yfzhu/opt/anaconda3/envs/d2l/lib/python3.9/site-packages (from jax) (0.4.0)\n",
      "Requirement already satisfied: numpy>=1.22 in /Users/yfzhu/opt/anaconda3/envs/d2l/lib/python3.9/site-packages (from jax) (1.23.5)\n",
      "Requirement already satisfied: opt-einsum in /Users/yfzhu/opt/anaconda3/envs/d2l/lib/python3.9/site-packages (from jax) (3.3.0)\n",
      "Requirement already satisfied: scipy>=1.9 in /Users/yfzhu/opt/anaconda3/envs/d2l/lib/python3.9/site-packages (from jax) (1.10.1)\n",
      "Requirement already satisfied: importlib-metadata>=4.6 in /Users/yfzhu/opt/anaconda3/envs/d2l/lib/python3.9/site-packages (from jax) (6.8.0)\n",
      "Requirement already satisfied: zipp>=0.5 in /Users/yfzhu/opt/anaconda3/envs/d2l/lib/python3.9/site-packages (from importlib-metadata>=4.6->jax) (3.17.0)\n",
      "Downloading jaxlib-0.4.25-cp39-cp39-macosx_10_14_x86_64.whl (83.3 MB)\n",
      "\u001b[2K   \u001b[90m━━━━━━━━━━━━━━━━━━━━━━━━━━━━━━━━━━━━━━━━\u001b[0m \u001b[32m83.3/83.3 MB\u001b[0m \u001b[31m11.3 MB/s\u001b[0m eta \u001b[36m0:00:00\u001b[0m00:01\u001b[0m00:01\u001b[0m\n",
      "\u001b[?25hInstalling collected packages: jaxlib\n",
      "Successfully installed jaxlib-0.4.25\n"
     ]
    }
   ],
   "source": [
    "!pip install jax jaxlib"
   ]
  },
  {
   "cell_type": "code",
   "execution_count": 1,
   "metadata": {},
   "outputs": [
    {
     "ename": "RuntimeError",
     "evalue": "This version of jaxlib was built using AVX instructions, which your CPU and/or operating system do not support. You may be able work around this issue by building jaxlib from source.",
     "output_type": "error",
     "traceback": [
      "\u001b[0;31m---------------------------------------------------------------------------\u001b[0m",
      "\u001b[0;31mRuntimeError\u001b[0m                              Traceback (most recent call last)",
      "Cell \u001b[0;32mIn[1], line 1\u001b[0m\n\u001b[0;32m----> 1\u001b[0m \u001b[38;5;28;01mimport\u001b[39;00m \u001b[38;5;21;01mjax\u001b[39;00m\n\u001b[1;32m      2\u001b[0m \u001b[38;5;28;01mfrom\u001b[39;00m \u001b[38;5;21;01mjax\u001b[39;00m \u001b[38;5;28;01mimport\u001b[39;00m numpy \u001b[38;5;28;01mas\u001b[39;00m jnp\n",
      "File \u001b[0;32m~/opt/anaconda3/envs/d2l/lib/python3.9/site-packages/jax/__init__.py:37\u001b[0m\n\u001b[1;32m     34\u001b[0m \u001b[38;5;28;01mdel\u001b[39;00m _cloud_tpu_init\n\u001b[1;32m     36\u001b[0m \u001b[38;5;66;03m# Force early import, allowing use of `jax.core` after importing `jax`.\u001b[39;00m\n\u001b[0;32m---> 37\u001b[0m \u001b[38;5;28;01mimport\u001b[39;00m \u001b[38;5;21;01mjax\u001b[39;00m\u001b[38;5;21;01m.\u001b[39;00m\u001b[38;5;21;01mcore\u001b[39;00m \u001b[38;5;28;01mas\u001b[39;00m \u001b[38;5;21;01m_core\u001b[39;00m\n\u001b[1;32m     38\u001b[0m \u001b[38;5;28;01mdel\u001b[39;00m _core\n\u001b[1;32m     40\u001b[0m \u001b[38;5;66;03m# Note: import <name> as <name> is required for names to be exported.\u001b[39;00m\n\u001b[1;32m     41\u001b[0m \u001b[38;5;66;03m# See PEP 484 & https://github.com/google/jax/issues/7570\u001b[39;00m\n",
      "File \u001b[0;32m~/opt/anaconda3/envs/d2l/lib/python3.9/site-packages/jax/core.py:18\u001b[0m\n\u001b[1;32m      1\u001b[0m \u001b[38;5;66;03m# Copyright 2022 The JAX Authors.\u001b[39;00m\n\u001b[1;32m      2\u001b[0m \u001b[38;5;66;03m#\u001b[39;00m\n\u001b[1;32m      3\u001b[0m \u001b[38;5;66;03m# Licensed under the Apache License, Version 2.0 (the \"License\");\u001b[39;00m\n\u001b[0;32m   (...)\u001b[0m\n\u001b[1;32m     15\u001b[0m \u001b[38;5;66;03m# Note: import <name> as <name> is required for names to be exported.\u001b[39;00m\n\u001b[1;32m     16\u001b[0m \u001b[38;5;66;03m# See PEP 484 & https://github.com/google/jax/issues/7570\u001b[39;00m\n\u001b[0;32m---> 18\u001b[0m \u001b[38;5;28;01mfrom\u001b[39;00m \u001b[38;5;21;01mjax\u001b[39;00m\u001b[38;5;21;01m.\u001b[39;00m\u001b[38;5;21;01m_src\u001b[39;00m\u001b[38;5;21;01m.\u001b[39;00m\u001b[38;5;21;01mcore\u001b[39;00m \u001b[38;5;28;01mimport\u001b[39;00m (\n\u001b[1;32m     19\u001b[0m   AbstractToken \u001b[38;5;28;01mas\u001b[39;00m AbstractToken,\n\u001b[1;32m     20\u001b[0m   AbstractValue \u001b[38;5;28;01mas\u001b[39;00m AbstractValue,\n\u001b[1;32m     21\u001b[0m   Atom \u001b[38;5;28;01mas\u001b[39;00m Atom,\n\u001b[1;32m     22\u001b[0m   AxisSize \u001b[38;5;28;01mas\u001b[39;00m AxisSize,\n\u001b[1;32m     23\u001b[0m   CallPrimitive \u001b[38;5;28;01mas\u001b[39;00m CallPrimitive,\n\u001b[1;32m     24\u001b[0m   ClosedJaxpr \u001b[38;5;28;01mas\u001b[39;00m ClosedJaxpr,\n\u001b[1;32m     25\u001b[0m   ConcreteArray \u001b[38;5;28;01mas\u001b[39;00m ConcreteArray,\n\u001b[1;32m     26\u001b[0m   ConcretizationTypeError \u001b[38;5;28;01mas\u001b[39;00m ConcretizationTypeError,\n\u001b[1;32m     27\u001b[0m   DShapedArray \u001b[38;5;28;01mas\u001b[39;00m DShapedArray,\n\u001b[1;32m     28\u001b[0m   DropVar \u001b[38;5;28;01mas\u001b[39;00m DropVar,\n\u001b[1;32m     29\u001b[0m   Effect \u001b[38;5;28;01mas\u001b[39;00m Effect,\n\u001b[1;32m     30\u001b[0m   Effects \u001b[38;5;28;01mas\u001b[39;00m Effects,\n\u001b[1;32m     31\u001b[0m   EvalTrace \u001b[38;5;28;01mas\u001b[39;00m EvalTrace,\n\u001b[1;32m     32\u001b[0m   InDBIdx \u001b[38;5;28;01mas\u001b[39;00m InDBIdx,\n\u001b[1;32m     33\u001b[0m   InconclusiveDimensionOperation \u001b[38;5;28;01mas\u001b[39;00m InconclusiveDimensionOperation,\n\u001b[1;32m     34\u001b[0m   InputType \u001b[38;5;28;01mas\u001b[39;00m InputType,\n\u001b[1;32m     35\u001b[0m   Jaxpr \u001b[38;5;28;01mas\u001b[39;00m Jaxpr,\n\u001b[1;32m     36\u001b[0m   JaxprDebugInfo \u001b[38;5;28;01mas\u001b[39;00m JaxprDebugInfo,\n\u001b[1;32m     37\u001b[0m   JaxprEqn \u001b[38;5;28;01mas\u001b[39;00m JaxprEqn,\n\u001b[1;32m     38\u001b[0m   JaxprPpContext \u001b[38;5;28;01mas\u001b[39;00m JaxprPpContext,\n\u001b[1;32m     39\u001b[0m   JaxprPpSettings \u001b[38;5;28;01mas\u001b[39;00m JaxprPpSettings,\n\u001b[1;32m     40\u001b[0m   JaxprTypeError \u001b[38;5;28;01mas\u001b[39;00m JaxprTypeError,\n\u001b[1;32m     41\u001b[0m   Literal \u001b[38;5;28;01mas\u001b[39;00m Literal,\n\u001b[1;32m     42\u001b[0m   MainTrace \u001b[38;5;28;01mas\u001b[39;00m MainTrace,\n\u001b[1;32m     43\u001b[0m   MapPrimitive \u001b[38;5;28;01mas\u001b[39;00m MapPrimitive,\n\u001b[1;32m     44\u001b[0m   NameGatheringSubst \u001b[38;5;28;01mas\u001b[39;00m NameGatheringSubst,\n\u001b[1;32m     45\u001b[0m   NamedShape \u001b[38;5;28;01mas\u001b[39;00m NamedShape,\n\u001b[1;32m     46\u001b[0m   OutDBIdx \u001b[38;5;28;01mas\u001b[39;00m OutDBIdx,\n\u001b[1;32m     47\u001b[0m   OutputType \u001b[38;5;28;01mas\u001b[39;00m OutputType,\n\u001b[1;32m     48\u001b[0m   ParamDict \u001b[38;5;28;01mas\u001b[39;00m ParamDict,\n\u001b[1;32m     49\u001b[0m   Primitive \u001b[38;5;28;01mas\u001b[39;00m Primitive,\n\u001b[1;32m     50\u001b[0m   ShapedArray \u001b[38;5;28;01mas\u001b[39;00m ShapedArray,\n\u001b[1;32m     51\u001b[0m   Sublevel \u001b[38;5;28;01mas\u001b[39;00m Sublevel,\n\u001b[1;32m     52\u001b[0m   TRACER_LEAK_DEBUGGER_WARNING \u001b[38;5;28;01mas\u001b[39;00m TRACER_LEAK_DEBUGGER_WARNING,\n\u001b[1;32m     53\u001b[0m   ThreadLocalState \u001b[38;5;28;01mas\u001b[39;00m ThreadLocalState,\n\u001b[1;32m     54\u001b[0m   Token \u001b[38;5;28;01mas\u001b[39;00m Token,\n\u001b[1;32m     55\u001b[0m   Trace \u001b[38;5;28;01mas\u001b[39;00m Trace,\n\u001b[1;32m     56\u001b[0m   TraceStack \u001b[38;5;28;01mas\u001b[39;00m TraceStack,\n\u001b[1;32m     57\u001b[0m   TraceState \u001b[38;5;28;01mas\u001b[39;00m TraceState,\n\u001b[1;32m     58\u001b[0m   Tracer \u001b[38;5;28;01mas\u001b[39;00m Tracer,\n\u001b[1;32m     59\u001b[0m   UnshapedArray \u001b[38;5;28;01mas\u001b[39;00m UnshapedArray,\n\u001b[1;32m     60\u001b[0m   Value \u001b[38;5;28;01mas\u001b[39;00m Value,\n\u001b[1;32m     61\u001b[0m   Var \u001b[38;5;28;01mas\u001b[39;00m Var,\n\u001b[1;32m     62\u001b[0m   abstract_token \u001b[38;5;28;01mas\u001b[39;00m abstract_token,\n\u001b[1;32m     63\u001b[0m   apply_todos \u001b[38;5;28;01mas\u001b[39;00m apply_todos,\n\u001b[1;32m     64\u001b[0m   as_named_shape \u001b[38;5;28;01mas\u001b[39;00m as_named_shape,\n\u001b[1;32m     65\u001b[0m   aval_mapping_handlers \u001b[38;5;28;01mas\u001b[39;00m aval_mapping_handlers,\n\u001b[1;32m     66\u001b[0m   axis_frame \u001b[38;5;28;01mas\u001b[39;00m axis_frame,\n\u001b[1;32m     67\u001b[0m   call \u001b[38;5;28;01mas\u001b[39;00m call,\n\u001b[1;32m     68\u001b[0m   call_bind_with_continuation \u001b[38;5;28;01mas\u001b[39;00m call_bind_with_continuation,\n\u001b[1;32m     69\u001b[0m   call_impl \u001b[38;5;28;01mas\u001b[39;00m call_impl,\n\u001b[1;32m     70\u001b[0m   call_p \u001b[38;5;28;01mas\u001b[39;00m call_p,\n\u001b[1;32m     71\u001b[0m   canonicalize_shape \u001b[38;5;28;01mas\u001b[39;00m _deprecated_canonicalize_shape,\n\u001b[1;32m     72\u001b[0m   check_eqn \u001b[38;5;28;01mas\u001b[39;00m check_eqn,\n\u001b[1;32m     73\u001b[0m   check_jaxpr \u001b[38;5;28;01mas\u001b[39;00m check_jaxpr,\n\u001b[1;32m     74\u001b[0m   check_type \u001b[38;5;28;01mas\u001b[39;00m check_type,\n\u001b[1;32m     75\u001b[0m   check_valid_jaxtype \u001b[38;5;28;01mas\u001b[39;00m check_valid_jaxtype,\n\u001b[1;32m     76\u001b[0m   closed_call_p \u001b[38;5;28;01mas\u001b[39;00m closed_call_p,\n\u001b[1;32m     77\u001b[0m   concrete_aval \u001b[38;5;28;01mas\u001b[39;00m concrete_aval,\n\u001b[1;32m     78\u001b[0m   concrete_or_error \u001b[38;5;28;01mas\u001b[39;00m concrete_or_error,\n\u001b[1;32m     79\u001b[0m   concretization_function_error \u001b[38;5;28;01mas\u001b[39;00m concretization_function_error,\n\u001b[1;32m     80\u001b[0m   cur_sublevel \u001b[38;5;28;01mas\u001b[39;00m cur_sublevel,\n\u001b[1;32m     81\u001b[0m   custom_typechecks \u001b[38;5;28;01mas\u001b[39;00m custom_typechecks,\n\u001b[1;32m     82\u001b[0m   dedup_referents \u001b[38;5;28;01mas\u001b[39;00m dedup_referents,\n\u001b[1;32m     83\u001b[0m   definitely_equal \u001b[38;5;28;01mas\u001b[39;00m _deprecated_definitely_equal,\n\u001b[1;32m     84\u001b[0m   dimension_as_value \u001b[38;5;28;01mas\u001b[39;00m _deprecated_dimension_as_value,\n\u001b[1;32m     85\u001b[0m   do_subst_axis_names_jaxpr \u001b[38;5;28;01mas\u001b[39;00m do_subst_axis_names_jaxpr,\n\u001b[1;32m     86\u001b[0m   ensure_compile_time_eval \u001b[38;5;28;01mas\u001b[39;00m ensure_compile_time_eval,\n\u001b[1;32m     87\u001b[0m   escaped_tracer_error \u001b[38;5;28;01mas\u001b[39;00m escaped_tracer_error,\n\u001b[1;32m     88\u001b[0m   eval_context \u001b[38;5;28;01mas\u001b[39;00m eval_context,\n\u001b[1;32m     89\u001b[0m   eval_jaxpr \u001b[38;5;28;01mas\u001b[39;00m eval_jaxpr,\n\u001b[1;32m     90\u001b[0m   extend_axis_env \u001b[38;5;28;01mas\u001b[39;00m extend_axis_env,\n\u001b[1;32m     91\u001b[0m   extend_axis_env_nd \u001b[38;5;28;01mas\u001b[39;00m extend_axis_env_nd,\n\u001b[1;32m     92\u001b[0m   find_top_trace \u001b[38;5;28;01mas\u001b[39;00m find_top_trace,\n\u001b[1;32m     93\u001b[0m   full_lower \u001b[38;5;28;01mas\u001b[39;00m full_lower,\n\u001b[1;32m     94\u001b[0m   gensym \u001b[38;5;28;01mas\u001b[39;00m gensym,\n\u001b[1;32m     95\u001b[0m   get_aval \u001b[38;5;28;01mas\u001b[39;00m get_aval,\n\u001b[1;32m     96\u001b[0m   get_referent \u001b[38;5;28;01mas\u001b[39;00m get_referent,\n\u001b[1;32m     97\u001b[0m   is_constant_dim \u001b[38;5;28;01mas\u001b[39;00m is_constant_dim,\n\u001b[1;32m     98\u001b[0m   is_constant_shape \u001b[38;5;28;01mas\u001b[39;00m is_constant_shape,\n\u001b[1;32m     99\u001b[0m   jaxpr_as_fun \u001b[38;5;28;01mas\u001b[39;00m jaxpr_as_fun,\n\u001b[1;32m    100\u001b[0m   jaxpr_uses_outfeed \u001b[38;5;28;01mas\u001b[39;00m jaxpr_uses_outfeed,\n\u001b[1;32m    101\u001b[0m   jaxprs_in_params \u001b[38;5;28;01mas\u001b[39;00m jaxprs_in_params,\n\u001b[1;32m    102\u001b[0m   join_effects \u001b[38;5;28;01mas\u001b[39;00m join_effects,\n\u001b[1;32m    103\u001b[0m   join_named_shapes \u001b[38;5;28;01mas\u001b[39;00m join_named_shapes,\n\u001b[1;32m    104\u001b[0m   lattice_join \u001b[38;5;28;01mas\u001b[39;00m lattice_join,\n\u001b[1;32m    105\u001b[0m   leaked_tracer_error \u001b[38;5;28;01mas\u001b[39;00m leaked_tracer_error,\n\u001b[1;32m    106\u001b[0m   literalable_types \u001b[38;5;28;01mas\u001b[39;00m literalable_types,\n\u001b[1;32m    107\u001b[0m   map_bind \u001b[38;5;28;01mas\u001b[39;00m map_bind,\n\u001b[1;32m    108\u001b[0m   map_bind_with_continuation \u001b[38;5;28;01mas\u001b[39;00m map_bind_with_continuation,\n\u001b[1;32m    109\u001b[0m   mapped_aval \u001b[38;5;28;01mas\u001b[39;00m mapped_aval,\n\u001b[1;32m    110\u001b[0m   maybe_find_leaked_tracers \u001b[38;5;28;01mas\u001b[39;00m maybe_find_leaked_tracers,\n\u001b[1;32m    111\u001b[0m   max_dim \u001b[38;5;28;01mas\u001b[39;00m max_dim,\n\u001b[1;32m    112\u001b[0m   min_dim \u001b[38;5;28;01mas\u001b[39;00m min_dim,\n\u001b[1;32m    113\u001b[0m   new_base_main \u001b[38;5;28;01mas\u001b[39;00m new_base_main,\n\u001b[1;32m    114\u001b[0m   new_jaxpr_eqn \u001b[38;5;28;01mas\u001b[39;00m new_jaxpr_eqn,\n\u001b[1;32m    115\u001b[0m   new_main \u001b[38;5;28;01mas\u001b[39;00m new_main,\n\u001b[1;32m    116\u001b[0m   new_sublevel \u001b[38;5;28;01mas\u001b[39;00m new_sublevel,\n\u001b[1;32m    117\u001b[0m   no_axis_name \u001b[38;5;28;01mas\u001b[39;00m no_axis_name,\n\u001b[1;32m    118\u001b[0m   no_effects \u001b[38;5;28;01mas\u001b[39;00m no_effects,\n\u001b[1;32m    119\u001b[0m   non_negative_dim \u001b[38;5;28;01mas\u001b[39;00m _deprecated_non_negative_dim,\n\u001b[1;32m    120\u001b[0m   outfeed_primitives \u001b[38;5;28;01mas\u001b[39;00m outfeed_primitives,\n\u001b[1;32m    121\u001b[0m   pp_aval \u001b[38;5;28;01mas\u001b[39;00m pp_aval,\n\u001b[1;32m    122\u001b[0m   pp_eqn \u001b[38;5;28;01mas\u001b[39;00m pp_eqn,\n\u001b[1;32m    123\u001b[0m   pp_eqn_rules \u001b[38;5;28;01mas\u001b[39;00m pp_eqn_rules,\n\u001b[1;32m    124\u001b[0m   pp_eqns \u001b[38;5;28;01mas\u001b[39;00m pp_eqns,\n\u001b[1;32m    125\u001b[0m   pp_jaxpr \u001b[38;5;28;01mas\u001b[39;00m pp_jaxpr,\n\u001b[1;32m    126\u001b[0m   pp_jaxpr_eqn_range \u001b[38;5;28;01mas\u001b[39;00m pp_jaxpr_eqn_range,\n\u001b[1;32m    127\u001b[0m   pp_jaxpr_skeleton \u001b[38;5;28;01mas\u001b[39;00m pp_jaxpr_skeleton,\n\u001b[1;32m    128\u001b[0m   pp_jaxprs \u001b[38;5;28;01mas\u001b[39;00m pp_jaxprs,\n\u001b[1;32m    129\u001b[0m   pp_kv_pair \u001b[38;5;28;01mas\u001b[39;00m pp_kv_pair,\n\u001b[1;32m    130\u001b[0m   pp_kv_pairs \u001b[38;5;28;01mas\u001b[39;00m pp_kv_pairs,\n\u001b[1;32m    131\u001b[0m   pp_var \u001b[38;5;28;01mas\u001b[39;00m pp_var,\n\u001b[1;32m    132\u001b[0m   pp_vars \u001b[38;5;28;01mas\u001b[39;00m pp_vars,\n\u001b[1;32m    133\u001b[0m   primal_dtype_to_tangent_dtype \u001b[38;5;28;01mas\u001b[39;00m primal_dtype_to_tangent_dtype,\n\u001b[1;32m    134\u001b[0m   primitive_uses_outfeed \u001b[38;5;28;01mas\u001b[39;00m primitive_uses_outfeed,\n\u001b[1;32m    135\u001b[0m   process_env_traces_call \u001b[38;5;28;01mas\u001b[39;00m process_env_traces_call,\n\u001b[1;32m    136\u001b[0m   process_env_traces_map \u001b[38;5;28;01mas\u001b[39;00m process_env_traces_map,\n\u001b[1;32m    137\u001b[0m   pytype_aval_mappings \u001b[38;5;28;01mas\u001b[39;00m pytype_aval_mappings,\n\u001b[1;32m    138\u001b[0m   raise_as_much_as_possible \u001b[38;5;28;01mas\u001b[39;00m raise_as_much_as_possible,\n\u001b[1;32m    139\u001b[0m   raise_to_shaped \u001b[38;5;28;01mas\u001b[39;00m raise_to_shaped,\n\u001b[1;32m    140\u001b[0m   raise_to_shaped_mappings \u001b[38;5;28;01mas\u001b[39;00m raise_to_shaped_mappings,\n\u001b[1;32m    141\u001b[0m   reset_trace_state \u001b[38;5;28;01mas\u001b[39;00m reset_trace_state,\n\u001b[1;32m    142\u001b[0m   stash_axis_env \u001b[38;5;28;01mas\u001b[39;00m stash_axis_env,\n\u001b[1;32m    143\u001b[0m   str_eqn_compact \u001b[38;5;28;01mas\u001b[39;00m str_eqn_compact,\n\u001b[1;32m    144\u001b[0m   subjaxprs \u001b[38;5;28;01mas\u001b[39;00m subjaxprs,\n\u001b[1;32m    145\u001b[0m   subst_axis_names \u001b[38;5;28;01mas\u001b[39;00m subst_axis_names,\n\u001b[1;32m    146\u001b[0m   subst_axis_names_eqn \u001b[38;5;28;01mas\u001b[39;00m subst_axis_names_eqn,\n\u001b[1;32m    147\u001b[0m   subst_axis_names_jaxpr \u001b[38;5;28;01mas\u001b[39;00m subst_axis_names_jaxpr,\n\u001b[1;32m    148\u001b[0m   subst_axis_names_var \u001b[38;5;28;01mas\u001b[39;00m subst_axis_names_var,\n\u001b[1;32m    149\u001b[0m   substitute_vars_in_output_ty \u001b[38;5;28;01mas\u001b[39;00m substitute_vars_in_output_ty,\n\u001b[1;32m    150\u001b[0m   thread_local_state \u001b[38;5;28;01mas\u001b[39;00m thread_local_state,\n\u001b[1;32m    151\u001b[0m   token \u001b[38;5;28;01mas\u001b[39;00m token,\n\u001b[1;32m    152\u001b[0m   trace_state_clean \u001b[38;5;28;01mas\u001b[39;00m trace_state_clean,\n\u001b[1;32m    153\u001b[0m   traverse_jaxpr_params \u001b[38;5;28;01mas\u001b[39;00m traverse_jaxpr_params,\n\u001b[1;32m    154\u001b[0m   typecheck \u001b[38;5;28;01mas\u001b[39;00m typecheck,\n\u001b[1;32m    155\u001b[0m   typecompat \u001b[38;5;28;01mas\u001b[39;00m typecompat,\n\u001b[1;32m    156\u001b[0m   typematch \u001b[38;5;28;01mas\u001b[39;00m typematch,\n\u001b[1;32m    157\u001b[0m   unmapped_aval \u001b[38;5;28;01mas\u001b[39;00m unmapped_aval,\n\u001b[1;32m    158\u001b[0m   used_axis_names \u001b[38;5;28;01mas\u001b[39;00m used_axis_names,\n\u001b[1;32m    159\u001b[0m   used_axis_names_jaxpr \u001b[38;5;28;01mas\u001b[39;00m used_axis_names_jaxpr,\n\u001b[1;32m    160\u001b[0m   valid_jaxtype \u001b[38;5;28;01mas\u001b[39;00m valid_jaxtype,\n\u001b[1;32m    161\u001b[0m )\n\u001b[1;32m    164\u001b[0m \u001b[38;5;28;01mfrom\u001b[39;00m \u001b[38;5;21;01mjax\u001b[39;00m\u001b[38;5;21;01m.\u001b[39;00m\u001b[38;5;21;01m_src\u001b[39;00m \u001b[38;5;28;01mimport\u001b[39;00m core \u001b[38;5;28;01mas\u001b[39;00m _src_core\n\u001b[1;32m    165\u001b[0m _deprecations \u001b[38;5;241m=\u001b[39m {\n\u001b[1;32m    166\u001b[0m     \u001b[38;5;66;03m# Added Oct 11, 2023:\u001b[39;00m\n\u001b[1;32m    167\u001b[0m     \u001b[38;5;124m\"\u001b[39m\u001b[38;5;124mDimSize\u001b[39m\u001b[38;5;124m\"\u001b[39m: (\n\u001b[0;32m   (...)\u001b[0m\n\u001b[1;32m    191\u001b[0m     ),\n\u001b[1;32m    192\u001b[0m }\n",
      "File \u001b[0;32m~/opt/anaconda3/envs/d2l/lib/python3.9/site-packages/jax/_src/core.py:38\u001b[0m\n\u001b[1;32m     34\u001b[0m \u001b[38;5;28;01mfrom\u001b[39;00m \u001b[38;5;21;01mweakref\u001b[39;00m \u001b[38;5;28;01mimport\u001b[39;00m ref\n\u001b[1;32m     36\u001b[0m \u001b[38;5;28;01mimport\u001b[39;00m \u001b[38;5;21;01mnumpy\u001b[39;00m \u001b[38;5;28;01mas\u001b[39;00m \u001b[38;5;21;01mnp\u001b[39;00m\n\u001b[0;32m---> 38\u001b[0m \u001b[38;5;28;01mfrom\u001b[39;00m \u001b[38;5;21;01mjax\u001b[39;00m\u001b[38;5;21;01m.\u001b[39;00m\u001b[38;5;21;01m_src\u001b[39;00m \u001b[38;5;28;01mimport\u001b[39;00m dtypes\n\u001b[1;32m     39\u001b[0m \u001b[38;5;28;01mfrom\u001b[39;00m \u001b[38;5;21;01mjax\u001b[39;00m\u001b[38;5;21;01m.\u001b[39;00m\u001b[38;5;21;01m_src\u001b[39;00m \u001b[38;5;28;01mimport\u001b[39;00m config\n\u001b[1;32m     40\u001b[0m \u001b[38;5;28;01mfrom\u001b[39;00m \u001b[38;5;21;01mjax\u001b[39;00m\u001b[38;5;21;01m.\u001b[39;00m\u001b[38;5;21;01m_src\u001b[39;00m \u001b[38;5;28;01mimport\u001b[39;00m effects\n",
      "File \u001b[0;32m~/opt/anaconda3/envs/d2l/lib/python3.9/site-packages/jax/_src/dtypes.py:33\u001b[0m\n\u001b[1;32m     30\u001b[0m \u001b[38;5;28;01mimport\u001b[39;00m \u001b[38;5;21;01mml_dtypes\u001b[39;00m\n\u001b[1;32m     31\u001b[0m \u001b[38;5;28;01mimport\u001b[39;00m \u001b[38;5;21;01mnumpy\u001b[39;00m \u001b[38;5;28;01mas\u001b[39;00m \u001b[38;5;21;01mnp\u001b[39;00m\n\u001b[0;32m---> 33\u001b[0m \u001b[38;5;28;01mfrom\u001b[39;00m \u001b[38;5;21;01mjax\u001b[39;00m\u001b[38;5;21;01m.\u001b[39;00m\u001b[38;5;21;01m_src\u001b[39;00m \u001b[38;5;28;01mimport\u001b[39;00m config\n\u001b[1;32m     34\u001b[0m \u001b[38;5;28;01mfrom\u001b[39;00m \u001b[38;5;21;01mjax\u001b[39;00m\u001b[38;5;21;01m.\u001b[39;00m\u001b[38;5;21;01m_src\u001b[39;00m\u001b[38;5;21;01m.\u001b[39;00m\u001b[38;5;21;01mtyping\u001b[39;00m \u001b[38;5;28;01mimport\u001b[39;00m DType, DTypeLike\n\u001b[1;32m     35\u001b[0m \u001b[38;5;28;01mfrom\u001b[39;00m \u001b[38;5;21;01mjax\u001b[39;00m\u001b[38;5;21;01m.\u001b[39;00m\u001b[38;5;21;01m_src\u001b[39;00m\u001b[38;5;21;01m.\u001b[39;00m\u001b[38;5;21;01mutil\u001b[39;00m \u001b[38;5;28;01mimport\u001b[39;00m set_module, StrictABC\n",
      "File \u001b[0;32m~/opt/anaconda3/envs/d2l/lib/python3.9/site-packages/jax/_src/config.py:27\u001b[0m\n\u001b[1;32m     24\u001b[0m \u001b[38;5;28;01mimport\u001b[39;00m \u001b[38;5;21;01mthreading\u001b[39;00m\n\u001b[1;32m     25\u001b[0m \u001b[38;5;28;01mfrom\u001b[39;00m \u001b[38;5;21;01mtyping\u001b[39;00m \u001b[38;5;28;01mimport\u001b[39;00m Any, Callable, Generic, NamedTuple, NoReturn, TypeVar, cast\n\u001b[0;32m---> 27\u001b[0m \u001b[38;5;28;01mfrom\u001b[39;00m \u001b[38;5;21;01mjax\u001b[39;00m\u001b[38;5;21;01m.\u001b[39;00m\u001b[38;5;21;01m_src\u001b[39;00m \u001b[38;5;28;01mimport\u001b[39;00m lib\n\u001b[1;32m     28\u001b[0m \u001b[38;5;28;01mfrom\u001b[39;00m \u001b[38;5;21;01mjax\u001b[39;00m\u001b[38;5;21;01m.\u001b[39;00m\u001b[38;5;21;01m_src\u001b[39;00m\u001b[38;5;21;01m.\u001b[39;00m\u001b[38;5;21;01mlib\u001b[39;00m \u001b[38;5;28;01mimport\u001b[39;00m jax_jit\n\u001b[1;32m     29\u001b[0m \u001b[38;5;28;01mfrom\u001b[39;00m \u001b[38;5;21;01mjax\u001b[39;00m\u001b[38;5;21;01m.\u001b[39;00m\u001b[38;5;21;01m_src\u001b[39;00m\u001b[38;5;21;01m.\u001b[39;00m\u001b[38;5;21;01mlib\u001b[39;00m \u001b[38;5;28;01mimport\u001b[39;00m transfer_guard_lib\n",
      "File \u001b[0;32m~/opt/anaconda3/envs/d2l/lib/python3.9/site-packages/jax/_src/lib/__init__.py:84\u001b[0m\n\u001b[1;32m     80\u001b[0m \u001b[38;5;66;03m# Before importing any C compiled modules from jaxlib, first import the CPU\u001b[39;00m\n\u001b[1;32m     81\u001b[0m \u001b[38;5;66;03m# feature guard module to verify that jaxlib was compiled in a way that only\u001b[39;00m\n\u001b[1;32m     82\u001b[0m \u001b[38;5;66;03m# uses instructions that are present on this machine.\u001b[39;00m\n\u001b[1;32m     83\u001b[0m \u001b[38;5;28;01mimport\u001b[39;00m \u001b[38;5;21;01mjaxlib\u001b[39;00m\u001b[38;5;21;01m.\u001b[39;00m\u001b[38;5;21;01mcpu_feature_guard\u001b[39;00m \u001b[38;5;28;01mas\u001b[39;00m \u001b[38;5;21;01mcpu_feature_guard\u001b[39;00m\n\u001b[0;32m---> 84\u001b[0m \u001b[43mcpu_feature_guard\u001b[49m\u001b[38;5;241;43m.\u001b[39;49m\u001b[43mcheck_cpu_features\u001b[49m\u001b[43m(\u001b[49m\u001b[43m)\u001b[49m\n\u001b[1;32m     86\u001b[0m \u001b[38;5;28;01mimport\u001b[39;00m \u001b[38;5;21;01mjaxlib\u001b[39;00m\u001b[38;5;21;01m.\u001b[39;00m\u001b[38;5;21;01mutils\u001b[39;00m \u001b[38;5;28;01mas\u001b[39;00m \u001b[38;5;21;01mutils\u001b[39;00m\n\u001b[1;32m     87\u001b[0m \u001b[38;5;28;01mimport\u001b[39;00m \u001b[38;5;21;01mjaxlib\u001b[39;00m\u001b[38;5;21;01m.\u001b[39;00m\u001b[38;5;21;01mxla_client\u001b[39;00m \u001b[38;5;28;01mas\u001b[39;00m \u001b[38;5;21;01mxla_client\u001b[39;00m\n",
      "\u001b[0;31mRuntimeError\u001b[0m: This version of jaxlib was built using AVX instructions, which your CPU and/or operating system do not support. You may be able work around this issue by building jaxlib from source."
     ]
    }
   ],
   "source": [
    "import jax\n",
    "from jax import numpy as jnp"
   ]
  }
 ],
 "metadata": {
  "kernelspec": {
   "display_name": "Python 3 (ipykernel)",
   "language": "python",
   "name": "python3"
  },
  "language_info": {
   "codemirror_mode": {
    "name": "ipython",
    "version": 3
   },
   "file_extension": ".py",
   "mimetype": "text/x-python",
   "name": "python",
   "nbconvert_exporter": "python",
   "pygments_lexer": "ipython3",
   "version": "3.9.18"
  }
 },
 "nbformat": 4,
 "nbformat_minor": 2
}
